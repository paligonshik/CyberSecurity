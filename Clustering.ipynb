{
  "cells": [
    {
      "cell_type": "code",
      "source": [
        "from google.colab import drive\n",
        "drive.mount('/content/drive')"
      ],
      "metadata": {
        "id": "Sx-n1JGUVGQL",
        "outputId": "619f36c8-be9c-46b9-f5da-84b6372d765e",
        "colab": {
          "base_uri": "https://localhost:8080/"
        }
      },
      "execution_count": null,
      "outputs": [
        {
          "output_type": "stream",
          "name": "stdout",
          "text": [
            "Mounted at /content/drive\n"
          ]
        }
      ]
    },
    {
      "cell_type": "markdown",
      "metadata": {
        "id": "9s_aGVE-Q_6G"
      },
      "source": [
        "# Machine Learning in Cybersecurity\n",
        "Professor : Shanchieh Yang<br>\n",
        "Student   :   Vazgen Tadevosyan <br></p>\n",
        "\n",
        "\n"
      ]
    },
    {
      "cell_type": "markdown",
      "metadata": {
        "id": "SMGI_NPeQ_6K"
      },
      "source": [
        "#Clustering and Smote\n"
      ]
    },
    {
      "cell_type": "markdown",
      "source": [
        "1. [Imports](#1)\n",
        "2. [Getting Data](#2)\n",
        "3. [PCA](#3)\n",
        "4. [Clustering](#4)\n",
        "   - [Agglomerative clustering](#h)\n",
        "   - [Kmeans](#k) \n",
        "   - [DBSCAN](#d)\n",
        "5. [Smote](#5)  \n"
      ],
      "metadata": {
        "id": "-8UixGuIGW-A"
      }
    },
    {
      "cell_type": "markdown",
      "source": [
        "<h1><a name=\"1\">Imports</a></h1>"
      ],
      "metadata": {
        "id": "KGpKruIJU3o7"
      }
    },
    {
      "cell_type": "code",
      "execution_count": null,
      "metadata": {
        "id": "HRrY3OI2Q_6L",
        "colab": {
          "base_uri": "https://localhost:8080/"
        },
        "outputId": "0dd3bfdf-cbf6-466d-b4f9-997c09da399b"
      },
      "outputs": [
        {
          "output_type": "stream",
          "name": "stdout",
          "text": [
            "display.max_colwidth : int or None\n",
            "    The maximum width in characters of a column in the repr of\n",
            "    a pandas data structure. When the column overflows, a \"...\"\n",
            "    placeholder is embedded in the output. A 'None' value means unlimited.\n",
            "    [default: 50] [currently: 100]\n"
          ]
        }
      ],
      "source": [
        "#for not showing warnings\n",
        "import os\n",
        "import time\n",
        "import glob\n",
        "import warnings\n",
        "warnings.filterwarnings('ignore')\n",
        "#data manipulation and visualization libraries\n",
        "\n",
        "from sklearn.preprocessing import StandardScaler\n",
        "from sklearn.decomposition import PCA\n",
        "import numpy as np\n",
        "import pandas as pd\n",
        "import matplotlib.pyplot as plt\n",
        "import seaborn as sns\n",
        "from collections import Counter\n",
        "from matplotlib import pyplot\n",
        "from sklearn.preprocessing import LabelEncoder\n",
        "import math\n",
        "from sklearn.manifold import TSNE\n",
        "from math import e\n",
        "from sklearn.model_selection import train_test_split\n",
        "#libraries for modelling and evaluation\n",
        "from sklearn.tree import export_graphviz\n",
        "#in case of error run <<!pip install>> and run the code again\n",
        "#in case of error run <<!pip install 'missing library'>> and run the code again\n",
        "pd.set_option('max_rows', 100)\n",
        "pd.set_option('max_colwidth', 100)\n",
        "pd.describe_option('max_colwidth')"
      ]
    },
    {
      "cell_type": "markdown",
      "source": [
        "Reading the data"
      ],
      "metadata": {
        "id": "j1lCK6TD7Mfv"
      }
    },
    {
      "cell_type": "code",
      "source": [
        "dataset = pd.read_csv(\"/content/drive/MyDrive/RIT/CyberSecurity/Data/preprocessed_for_clustering.csv\")"
      ],
      "metadata": {
        "id": "yhf-GXXthy0t"
      },
      "execution_count": null,
      "outputs": []
    },
    {
      "cell_type": "code",
      "source": [
        "print(\"Label distribution of test data\")\n",
        "print(dataset[\"Label\"].value_counts(),\"\\n\"*2)\n",
        "print(dataset[\"Label\"].value_counts(normalize=True),\"\\n\"*2)"
      ],
      "metadata": {
        "colab": {
          "base_uri": "https://localhost:8080/"
        },
        "id": "ss63CFQm9Wyy",
        "outputId": "700505f0-9d48-4021-f075-b68d8cd08c69"
      },
      "execution_count": null,
      "outputs": [
        {
          "output_type": "stream",
          "name": "stdout",
          "text": [
            "Label distribution of test data\n",
            "DDOS attack-HOIC            11660\n",
            "DoS attacks-SlowHTTPTest    10865\n",
            "DDoS attacks-LOIC-HTTP       5774\n",
            "DoS attacks-Hulk             4656\n",
            "Infilteration                3921\n",
            "Bot                          2814\n",
            "FTP-BruteForce               1920\n",
            "SSH-Bruteforce               1914\n",
            "DoS attacks-GoldenEye         397\n",
            "Name: Label, dtype: int64 \n",
            "\n",
            "\n",
            "DDOS attack-HOIC            0.265477\n",
            "DoS attacks-SlowHTTPTest    0.247376\n",
            "DDoS attacks-LOIC-HTTP      0.131463\n",
            "DoS attacks-Hulk            0.106009\n",
            "Infilteration               0.089274\n",
            "Bot                         0.064070\n",
            "FTP-BruteForce              0.043715\n",
            "SSH-Bruteforce              0.043578\n",
            "DoS attacks-GoldenEye       0.009039\n",
            "Name: Label, dtype: float64 \n",
            "\n",
            "\n"
          ]
        }
      ]
    },
    {
      "cell_type": "markdown",
      "source": [
        " <h1><a name=\"3\">PCA</a></h1>"
      ],
      "metadata": {
        "id": "bR_o7W9O5Jdd"
      }
    },
    {
      "cell_type": "markdown",
      "source": [
        "Principal component analysis (PCA) is the process of computing the principal components and using them to perform a change of basis on the data, sometimes using only the first few principal components and ignoring the rest.It is used for data reduction, in our project we need it because out clustering methods worked better and faster on principal components rather than original data"
      ],
      "metadata": {
        "id": "hRdDqCyWA9_W"
      }
    },
    {
      "cell_type": "code",
      "source": [
        "scaler = StandardScaler()\n",
        "transformed_train_numeric = pd.DataFrame(scaler.fit_transform(dataset.drop(columns=\"Label\")),columns=dataset.drop(columns=\"Label\").columns)\n",
        "pca = PCA(n_components=10)"
      ],
      "metadata": {
        "id": "FLe8AjHUBZZV"
      },
      "execution_count": null,
      "outputs": []
    },
    {
      "cell_type": "code",
      "source": [
        "for_clustering = dataset.copy(deep=True)\n",
        "print(for_clustering.shape)\n",
        "transformed_train_numeric_for_clustering = pd.DataFrame(scaler.fit_transform(for_clustering.drop(columns = [\"Label\"])),columns=for_clustering.drop(columns = [\"Label\"]).columns)\n",
        "print(transformed_train_numeric_for_clustering.shape)"
      ],
      "metadata": {
        "id": "bDOqhvTgQxTG",
        "colab": {
          "base_uri": "https://localhost:8080/"
        },
        "outputId": "0b7efe52-39a4-4711-81d7-e25255c34fd0"
      },
      "execution_count": null,
      "outputs": [
        {
          "output_type": "stream",
          "name": "stdout",
          "text": [
            "(43921, 77)\n",
            "(43921, 76)\n"
          ]
        }
      ]
    },
    {
      "cell_type": "code",
      "source": [
        "pca = PCA(n_components=10)\n",
        "pca_transformed = pca.fit_transform(transformed_train_numeric_for_clustering)\n",
        "plt.figure(figsize=(8,6))\n",
        "plt.scatter(pca_transformed[:,0],pca_transformed[:,1], c=for_clustering.Label.astype('category').cat.codes)\n",
        "plt.xlabel('first principal component')\n",
        "plt.ylabel('second principal component')\n",
        "\n",
        "print(pca.explained_variance_ratio_)\n",
        "plt.figure(figsize=(8,6))\n",
        "plt.plot(np.cumsum(pca.explained_variance_ratio_))\n",
        "plt.xlabel('Number of components')\n",
        "plt.ylabel('Cumulative explained variance')"
      ],
      "metadata": {
        "colab": {
          "base_uri": "https://localhost:8080/",
          "height": 815
        },
        "id": "PLK8lzE3B3oF",
        "outputId": "f86216f6-8624-4779-a0eb-1bf5b71121f9"
      },
      "execution_count": null,
      "outputs": [
        {
          "output_type": "stream",
          "name": "stdout",
          "text": [
            "[0.35992311 0.18518318 0.10358891 0.07584101 0.07311992 0.05309156\n",
            " 0.02904177 0.02416122 0.01553062 0.01462552]\n"
          ]
        },
        {
          "output_type": "execute_result",
          "data": {
            "text/plain": [
              "Text(0, 0.5, 'Cumulative explained variance')"
            ]
          },
          "metadata": {},
          "execution_count": 7
        },
        {
          "output_type": "display_data",
          "data": {
            "text/plain": [
              "<Figure size 576x432 with 1 Axes>"
            ],
            "image/png": "[encoded data removed]"
          },
          "metadata": {
            "needs_background": "light"
          }
        },
        {
          "output_type": "display_data",
          "data": {
            "text/plain": [
              "<Figure size 576x432 with 1 Axes>"
            ],
            "image/png": "[encoded data removed]"
          },
          "metadata": {
            "needs_background": "light"
          }
        }
      ]
    },
    {
      "cell_type": "markdown",
      "source": [
        "From the plot it is seen that we have PCA data which explains 0.9 variation of original data"
      ],
      "metadata": {
        "id": "cMy8UZ7lrhth"
      }
    },
    {
      "cell_type": "code",
      "source": [
        "for_clustering.reset_index(drop=True, inplace=True)"
      ],
      "metadata": {
        "id": "X6n9WsKRQMzm"
      },
      "execution_count": null,
      "outputs": []
    },
    {
      "cell_type": "code",
      "source": [
        "transformed_train_numeric_for_clustering.shape"
      ],
      "metadata": {
        "colab": {
          "base_uri": "https://localhost:8080/"
        },
        "id": "YJYlIXBTd0-A",
        "outputId": "a1800fbe-ff5b-4dcd-b08a-5773e93c00d6"
      },
      "execution_count": null,
      "outputs": [
        {
          "output_type": "execute_result",
          "data": {
            "text/plain": [
              "(43921, 76)"
            ]
          },
          "metadata": {},
          "execution_count": 9
        }
      ]
    },
    {
      "cell_type": "code",
      "source": [
        "pca_transformed = pd.DataFrame(pca_transformed)\n",
        "pca_transformed.shape"
      ],
      "metadata": {
        "colab": {
          "base_uri": "https://localhost:8080/"
        },
        "id": "eW4_l9EMchD-",
        "outputId": "65d62259-95d0-4870-9e43-9a40542bf226"
      },
      "execution_count": null,
      "outputs": [
        {
          "output_type": "execute_result",
          "data": {
            "text/plain": [
              "(43921, 10)"
            ]
          },
          "metadata": {},
          "execution_count": 10
        }
      ]
    },
    {
      "cell_type": "code",
      "source": [
        "pca_transformed = pd.DataFrame(pca_transformed)\n",
        "pca_transformed[\"Label\"] = for_clustering[\"Label\"]\n",
        "pca_transformed2 = pca_transformed.sample(frac=1).sample(frac=0.2)\n",
        "len(pca_transformed2)"
      ],
      "metadata": {
        "colab": {
          "base_uri": "https://localhost:8080/"
        },
        "id": "km4p9NOJbFer",
        "outputId": "fb77c084-4afb-4269-e106-564273b1c0b8"
      },
      "execution_count": null,
      "outputs": [
        {
          "output_type": "execute_result",
          "data": {
            "text/plain": [
              "8784"
            ]
          },
          "metadata": {},
          "execution_count": 11
        }
      ]
    },
    {
      "cell_type": "code",
      "source": [
        "print(pca_transformed2[\"Label\"].value_counts())"
      ],
      "metadata": {
        "colab": {
          "base_uri": "https://localhost:8080/"
        },
        "id": "4phd9foVXJto",
        "outputId": "0c4ee15f-5f3e-4b36-ea15-2c4add6d6794"
      },
      "execution_count": null,
      "outputs": [
        {
          "output_type": "stream",
          "name": "stdout",
          "text": [
            "DDOS attack-HOIC            2282\n",
            "DoS attacks-SlowHTTPTest    2161\n",
            "DDoS attacks-LOIC-HTTP      1174\n",
            "DoS attacks-Hulk             904\n",
            "Infilteration                803\n",
            "Bot                          619\n",
            "FTP-BruteForce               389\n",
            "SSH-Bruteforce               379\n",
            "DoS attacks-GoldenEye         73\n",
            "Name: Label, dtype: int64\n"
          ]
        }
      ]
    },
    {
      "cell_type": "markdown",
      "source": [
        " <h1><a name=\"4\">Clustering</a></h1>"
      ],
      "metadata": {
        "id": "xMMxPupbiuba"
      }
    },
    {
      "cell_type": "markdown",
      "source": [
        " <h2><a name=\"h\">Agglomerative clustering </a></h2>\n",
        "\n",
        "\n",
        "\n"
      ],
      "metadata": {
        "id": "oAtguHqDjpDy"
      }
    },
    {
      "cell_type": "code",
      "source": [
        "import numpy as np\n",
        "\n",
        "from matplotlib import pyplot as plt\n",
        "from scipy.cluster.hierarchy import dendrogram\n",
        "from sklearn.datasets import load_iris\n",
        "from sklearn.cluster import AgglomerativeClustering\n",
        "\n",
        "\n",
        "def plot_dendrogram(model, **kwargs):\n",
        "    # Create linkage matrix and then plot the dendrogram\n",
        "\n",
        "    # create the counts of samples under each node\n",
        "    counts = np.zeros(model.children_.shape[0])\n",
        "    n_samples = len(model.labels_)\n",
        "    for i, merge in enumerate(model.children_):\n",
        "        current_count = 0\n",
        "        for child_idx in merge:\n",
        "            if child_idx < n_samples:\n",
        "                current_count += 1  # leaf node\n",
        "            else:\n",
        "                current_count += counts[child_idx - n_samples]\n",
        "        counts[i] = current_count\n",
        "\n",
        "    linkage_matrix = np.column_stack(\n",
        "        [model.children_, model.distances_, counts]\n",
        "    ).astype(float)\n",
        "\n",
        "    # Plot the corresponding dendrogram\n",
        "    dendrogram(linkage_matrix, **kwargs)\n",
        "\n",
        "\n",
        "\n",
        "# setting distance_threshold=0 ensures we compute the full tree.\n",
        "model = AgglomerativeClustering(distance_threshold=0, n_clusters=None)\n",
        "\n",
        "model = model.fit(pca_transformed2.drop(\"Label\",axis=1))\n",
        "plt.title(\"Hierarchical Clustering Dendrogram\")\n",
        "# plot the top three levels of the dendrogram\n",
        "plot_dendrogram(model, truncate_mode=\"level\", p=2)\n",
        "plt.xlabel(\"Number of points in node (or index of point if no parenthesis).\")\n",
        "plt.show()"
      ],
      "metadata": {
        "colab": {
          "base_uri": "https://localhost:8080/",
          "height": 298
        },
        "id": "vILEH61Om69R",
        "outputId": "90c8823d-34e8-4d73-bd42-3d9a5b54a55e"
      },
      "execution_count": null,
      "outputs": [
        {
          "output_type": "display_data",
          "data": {
            "text/plain": [
              "<Figure size 432x288 with 1 Axes>"
            ],
            "image/png": "[encoded data removed]"
          },
          "metadata": {
            "needs_background": "light"
          }
        }
      ]
    },
    {
      "cell_type": "code",
      "source": [
        "pca_transformed2[\"Label\"].value_counts()"
      ],
      "metadata": {
        "id": "15tooaD8P4CJ",
        "colab": {
          "base_uri": "https://localhost:8080/"
        },
        "outputId": "b5507c9b-d880-4802-aa7b-e95929579435"
      },
      "execution_count": null,
      "outputs": [
        {
          "output_type": "execute_result",
          "data": {
            "text/plain": [
              "DDOS attack-HOIC            2282\n",
              "DoS attacks-SlowHTTPTest    2161\n",
              "DDoS attacks-LOIC-HTTP      1174\n",
              "DoS attacks-Hulk             904\n",
              "Infilteration                803\n",
              "Bot                          619\n",
              "FTP-BruteForce               389\n",
              "SSH-Bruteforce               379\n",
              "DoS attacks-GoldenEye         73\n",
              "Name: Label, dtype: int64"
            ]
          },
          "metadata": {},
          "execution_count": 14
        }
      ]
    },
    {
      "cell_type": "markdown",
      "source": [
        "\n",
        "\\begin{align}\n",
        "  H(X) = -\\sum_{x}{p(x) * log_2\\,{p(x)}}\n",
        "\\end{align}"
      ],
      "metadata": {
        "id": "PRvG_ITblGg5"
      }
    },
    {
      "cell_type": "code",
      "source": [
        "dct = {}\n",
        "for k in range(2,9):\n",
        "  model = AgglomerativeClustering(compute_distances=True,linkage='ward',n_clusters=k).fit(pca_transformed2.drop(\"Label\",axis=1))\n",
        "  pca_transformed2['cluster'] = model.fit_predict(pca_transformed2.drop(\"Label\",axis=1))\n",
        "  temp = round((pd.crosstab(pca_transformed2.cluster, pca_transformed2.Label, margins=True, margins_name=\"Total\")),2)\n",
        "  def pandas_entropy(column, base=None):\n",
        "      \"\"\"Calculate entropy of columns\"\"\"\n",
        "      vc = pd.Series(column)\n",
        "      p = vc/vc[\"Total\"]\n",
        "      base = len(column)-1\n",
        "      base = e if base <=2  else base\n",
        "      return -(p * (np.log(p)/np.log(e))).sum()\n",
        "  average = np.mean(temp.apply(pandas_entropy))\n",
        "  dct[k]=average"
      ],
      "metadata": {
        "id": "0ODzCaTlktjn"
      },
      "execution_count": null,
      "outputs": []
    },
    {
      "cell_type": "code",
      "source": [
        "lists = sorted(dct.items()) # sorted by key, return a list of tuples\n",
        "x, y = zip(*lists) # unpack a list of pairs into two tuples\n",
        "plt.plot(x, y)\n",
        "plt.show()\n",
        "dct"
      ],
      "metadata": {
        "colab": {
          "base_uri": "https://localhost:8080/",
          "height": 387
        },
        "id": "ac9pRc6Mmckj",
        "outputId": "b9545d70-56f1-4ddc-aa20-005443c1196f"
      },
      "execution_count": null,
      "outputs": [
        {
          "output_type": "display_data",
          "data": {
            "text/plain": [
              "<Figure size 432x288 with 1 Axes>"
            ],
            "image/png": "[encoded data removed]"
          },
          "metadata": {
            "needs_background": "light"
          }
        },
        {
          "output_type": "execute_result",
          "data": {
            "text/plain": [
              "{2: 0.4399295612892703,\n",
              " 3: 0.47245316758447037,\n",
              " 4: 0.5432094361846238,\n",
              " 5: 0.5633753529052827,\n",
              " 6: 0.6621792213096758,\n",
              " 7: 0.6986052030956904,\n",
              " 8: 0.7153980198744347}"
            ]
          },
          "metadata": {},
          "execution_count": 16
        }
      ]
    },
    {
      "cell_type": "markdown",
      "source": [
        "We tried to use Malicious labels to calculate entropy of of each cluster, however it was not good indicatior of cluster purity"
      ],
      "metadata": {
        "id": "aB41P6vCry4L"
      }
    },
    {
      "cell_type": "code",
      "source": [
        "model = AgglomerativeClustering(compute_distances=True,linkage='ward').fit(pca_transformed2.drop(\"Label\",axis=1))\n",
        "pca_transformed2['cluster'] = model.fit_predict(pca_transformed2.drop(\"Label\",axis=1))\n",
        "temp = round((pd.crosstab(pca_transformed2.cluster, pca_transformed2.Label, margins=True, margins_name=\"Total\")),2)\n",
        "temp"
      ],
      "metadata": {
        "colab": {
          "base_uri": "https://localhost:8080/",
          "height": 175
        },
        "id": "7aKWZYef05d9",
        "outputId": "a0cb0eee-d73c-46a0-a9ca-428a6c65eba1"
      },
      "execution_count": null,
      "outputs": [
        {
          "output_type": "execute_result",
          "data": {
            "text/plain": [
              "Label    Bot  DDOS attack-HOIC  DDoS attacks-LOIC-HTTP  DoS attacks-GoldenEye  \\\n",
              "cluster                                                                         \n",
              "0          0               300                     602                     50   \n",
              "1        619              1982                     572                     23   \n",
              "Total    619              2282                    1174                     73   \n",
              "\n",
              "Label    DoS attacks-Hulk  DoS attacks-SlowHTTPTest  FTP-BruteForce  \\\n",
              "cluster                                                               \n",
              "0                      45                         0               0   \n",
              "1                     859                      2161             389   \n",
              "Total                 904                      2161             389   \n",
              "\n",
              "Label    Infilteration  SSH-Bruteforce  Total  \n",
              "cluster                                        \n",
              "0                  193             200   1390  \n",
              "1                  610             179   7394  \n",
              "Total              803             379   8784  "
            ],
            "text/html": [
              "\n",
              "  <div id=\"df-f31239e5-8151-4416-8030-363ede26550c\">\n",
              "    <div class=\"colab-df-container\">\n",
              "      <div>\n",
              "<style scoped>\n",
              "    .dataframe tbody tr th:only-of-type {\n",
              "        vertical-align: middle;\n",
              "    }\n",
              "\n",
              "    .dataframe tbody tr th {\n",
              "        vertical-align: top;\n",
              "    }\n",
              "\n",
              "    .dataframe thead th {\n",
              "        text-align: right;\n",
              "    }\n",
              "</style>\n",
              "<table border=\"1\" class=\"dataframe\">\n",
              "  <thead>\n",
              "    <tr style=\"text-align: right;\">\n",
              "      <th>Label</th>\n",
              "      <th>Bot</th>\n",
              "      <th>DDOS attack-HOIC</th>\n",
              "      <th>DDoS attacks-LOIC-HTTP</th>\n",
              "      <th>DoS attacks-GoldenEye</th>\n",
              "      <th>DoS attacks-Hulk</th>\n",
              "      <th>DoS attacks-SlowHTTPTest</th>\n",
              "      <th>FTP-BruteForce</th>\n",
              "      <th>Infilteration</th>\n",
              "      <th>SSH-Bruteforce</th>\n",
              "      <th>Total</th>\n",
              "    </tr>\n",
              "    <tr>\n",
              "      <th>cluster</th>\n",
              "      <th></th>\n",
              "      <th></th>\n",
              "      <th></th>\n",
              "      <th></th>\n",
              "      <th></th>\n",
              "      <th></th>\n",
              "      <th></th>\n",
              "      <th></th>\n",
              "      <th></th>\n",
              "      <th></th>\n",
              "    </tr>\n",
              "  </thead>\n",
              "  <tbody>\n",
              "    <tr>\n",
              "      <th>0</th>\n",
              "      <td>0</td>\n",
              "      <td>300</td>\n",
              "      <td>602</td>\n",
              "      <td>50</td>\n",
              "      <td>45</td>\n",
              "      <td>0</td>\n",
              "      <td>0</td>\n",
              "      <td>193</td>\n",
              "      <td>200</td>\n",
              "      <td>1390</td>\n",
              "    </tr>\n",
              "    <tr>\n",
              "      <th>1</th>\n",
              "      <td>619</td>\n",
              "      <td>1982</td>\n",
              "      <td>572</td>\n",
              "      <td>23</td>\n",
              "      <td>859</td>\n",
              "      <td>2161</td>\n",
              "      <td>389</td>\n",
              "      <td>610</td>\n",
              "      <td>179</td>\n",
              "      <td>7394</td>\n",
              "    </tr>\n",
              "    <tr>\n",
              "      <th>Total</th>\n",
              "      <td>619</td>\n",
              "      <td>2282</td>\n",
              "      <td>1174</td>\n",
              "      <td>73</td>\n",
              "      <td>904</td>\n",
              "      <td>2161</td>\n",
              "      <td>389</td>\n",
              "      <td>803</td>\n",
              "      <td>379</td>\n",
              "      <td>8784</td>\n",
              "    </tr>\n",
              "  </tbody>\n",
              "</table>\n",
              "</div>\n",
              "      <button class=\"colab-df-convert\" onclick=\"convertToInteractive('df-f31239e5-8151-4416-8030-363ede26550c')\"\n",
              "              title=\"Convert this dataframe to an interactive table.\"\n",
              "              style=\"display:none;\">\n",
              "        \n",
              "  <svg xmlns=\"http://www.w3.org/2000/svg\" height=\"24px\"viewBox=\"0 0 24 24\"\n",
              "       width=\"24px\">\n",
              "    <path d=\"M0 0h24v24H0V0z\" fill=\"none\"/>\n",
              "    <path d=\"M18.56 5.44l.94 2.06.94-2.06 2.06-.94-2.06-.94-.94-2.06-.94 2.06-2.06.94zm-11 1L8.5 8.5l.94-2.06 2.06-.94-2.06-.94L8.5 2.5l-.94 2.06-2.06.94zm10 10l.94 2.06.94-2.06 2.06-.94-2.06-.94-.94-2.06-.94 2.06-2.06.94z\"/><path d=\"M17.41 7.96l-1.37-1.37c-.4-.4-.92-.59-1.43-.59-.52 0-1.04.2-1.43.59L10.3 9.45l-7.72 7.72c-.78.78-.78 2.05 0 2.83L4 21.41c.39.39.9.59 1.41.59.51 0 1.02-.2 1.41-.59l7.78-7.78 2.81-2.81c.8-.78.8-2.07 0-2.86zM5.41 20L4 18.59l7.72-7.72 1.47 1.35L5.41 20z\"/>\n",
              "  </svg>\n",
              "      </button>\n",
              "      \n",
              "  <style>\n",
              "    .colab-df-container {\n",
              "      display:flex;\n",
              "      flex-wrap:wrap;\n",
              "      gap: 12px;\n",
              "    }\n",
              "\n",
              "    .colab-df-convert {\n",
              "      background-color: #E8F0FE;\n",
              "      border: none;\n",
              "      border-radius: 50%;\n",
              "      cursor: pointer;\n",
              "      display: none;\n",
              "      fill: #1967D2;\n",
              "      height: 32px;\n",
              "      padding: 0 0 0 0;\n",
              "      width: 32px;\n",
              "    }\n",
              "\n",
              "    .colab-df-convert:hover {\n",
              "      background-color: #E2EBFA;\n",
              "      box-shadow: 0px 1px 2px rgba(60, 64, 67, 0.3), 0px 1px 3px 1px rgba(60, 64, 67, 0.15);\n",
              "      fill: #174EA6;\n",
              "    }\n",
              "\n",
              "    [theme=dark] .colab-df-convert {\n",
              "      background-color: #3B4455;\n",
              "      fill: #D2E3FC;\n",
              "    }\n",
              "\n",
              "    [theme=dark] .colab-df-convert:hover {\n",
              "      background-color: #434B5C;\n",
              "      box-shadow: 0px 1px 3px 1px rgba(0, 0, 0, 0.15);\n",
              "      filter: drop-shadow(0px 1px 2px rgba(0, 0, 0, 0.3));\n",
              "      fill: #FFFFFF;\n",
              "    }\n",
              "  </style>\n",
              "\n",
              "      <script>\n",
              "        const buttonEl =\n",
              "          document.querySelector('#df-f31239e5-8151-4416-8030-363ede26550c button.colab-df-convert');\n",
              "        buttonEl.style.display =\n",
              "          google.colab.kernel.accessAllowed ? 'block' : 'none';\n",
              "\n",
              "        async function convertToInteractive(key) {\n",
              "          const element = document.querySelector('#df-f31239e5-8151-4416-8030-363ede26550c');\n",
              "          const dataTable =\n",
              "            await google.colab.kernel.invokeFunction('convertToInteractive',\n",
              "                                                     [key], {});\n",
              "          if (!dataTable) return;\n",
              "\n",
              "          const docLinkHtml = 'Like what you see? Visit the ' +\n",
              "            '<a target=\"_blank\" href=https://colab.research.google.com/notebooks/data_table.ipynb>data table notebook</a>'\n",
              "            + ' to learn more about interactive tables.';\n",
              "          element.innerHTML = '';\n",
              "          dataTable['output_type'] = 'display_data';\n",
              "          await google.colab.output.renderOutput(dataTable, element);\n",
              "          const docLink = document.createElement('div');\n",
              "          docLink.innerHTML = docLinkHtml;\n",
              "          element.appendChild(docLink);\n",
              "        }\n",
              "      </script>\n",
              "    </div>\n",
              "  </div>\n",
              "  "
            ]
          },
          "metadata": {},
          "execution_count": 17
        }
      ]
    },
    {
      "cell_type": "code",
      "source": [
        "model = AgglomerativeClustering(compute_distances=True,linkage='ward',n_clusters=8).fit(pca_transformed2.drop(\"Label\",axis=1))\n",
        "pca_transformed2['cluster'] = model.fit_predict(pca_transformed2.drop(\"Label\",axis=1))\n",
        "temp = round((pd.crosstab(pca_transformed2.cluster, pca_transformed2.Label, margins=True, margins_name=\"Total\")),2)\n",
        "temp"
      ],
      "metadata": {
        "colab": {
          "base_uri": "https://localhost:8080/",
          "height": 363
        },
        "id": "TQaOAI6ZlwET",
        "outputId": "b4bec908-87e5-40e6-867e-621c00c32e50"
      },
      "execution_count": null,
      "outputs": [
        {
          "output_type": "execute_result",
          "data": {
            "text/plain": [
              "Label    Bot  DDOS attack-HOIC  DDoS attacks-LOIC-HTTP  DoS attacks-GoldenEye  \\\n",
              "cluster                                                                         \n",
              "0          0                 0                       0                      1   \n",
              "1          0                 0                       0                      0   \n",
              "2          0               300                     602                     49   \n",
              "3          0                 0                     292                      7   \n",
              "4        320              1982                     277                     16   \n",
              "5          0                 0                       0                      0   \n",
              "6          0                 0                       0                      0   \n",
              "7        299                 0                       3                      0   \n",
              "Total    619              2282                    1174                     73   \n",
              "\n",
              "Label    DoS attacks-Hulk  DoS attacks-SlowHTTPTest  FTP-BruteForce  \\\n",
              "cluster                                                               \n",
              "0                       1                         0               0   \n",
              "1                       0                         0               0   \n",
              "2                      44                         0               0   \n",
              "3                       0                         0               0   \n",
              "4                     859                         0               0   \n",
              "5                       0                      2161             389   \n",
              "6                       0                         0               0   \n",
              "7                       0                         0               0   \n",
              "Total                 904                      2161             389   \n",
              "\n",
              "Label    Infilteration  SSH-Bruteforce  Total  \n",
              "cluster                                        \n",
              "0                  104               0    106  \n",
              "1                   62             200    262  \n",
              "2                   27               0   1022  \n",
              "3                    5               0    304  \n",
              "4                  114               0   3568  \n",
              "5                  218             179   2947  \n",
              "6                  222               0    222  \n",
              "7                   51               0    353  \n",
              "Total              803             379   8784  "
            ],
            "text/html": [
              "\n",
              "  <div id=\"df-f6379130-e024-44ea-afc8-2bed54c60435\">\n",
              "    <div class=\"colab-df-container\">\n",
              "      <div>\n",
              "<style scoped>\n",
              "    .dataframe tbody tr th:only-of-type {\n",
              "        vertical-align: middle;\n",
              "    }\n",
              "\n",
              "    .dataframe tbody tr th {\n",
              "        vertical-align: top;\n",
              "    }\n",
              "\n",
              "    .dataframe thead th {\n",
              "        text-align: right;\n",
              "    }\n",
              "</style>\n",
              "<table border=\"1\" class=\"dataframe\">\n",
              "  <thead>\n",
              "    <tr style=\"text-align: right;\">\n",
              "      <th>Label</th>\n",
              "      <th>Bot</th>\n",
              "      <th>DDOS attack-HOIC</th>\n",
              "      <th>DDoS attacks-LOIC-HTTP</th>\n",
              "      <th>DoS attacks-GoldenEye</th>\n",
              "      <th>DoS attacks-Hulk</th>\n",
              "      <th>DoS attacks-SlowHTTPTest</th>\n",
              "      <th>FTP-BruteForce</th>\n",
              "      <th>Infilteration</th>\n",
              "      <th>SSH-Bruteforce</th>\n",
              "      <th>Total</th>\n",
              "    </tr>\n",
              "    <tr>\n",
              "      <th>cluster</th>\n",
              "      <th></th>\n",
              "      <th></th>\n",
              "      <th></th>\n",
              "      <th></th>\n",
              "      <th></th>\n",
              "      <th></th>\n",
              "      <th></th>\n",
              "      <th></th>\n",
              "      <th></th>\n",
              "      <th></th>\n",
              "    </tr>\n",
              "  </thead>\n",
              "  <tbody>\n",
              "    <tr>\n",
              "      <th>0</th>\n",
              "      <td>0</td>\n",
              "      <td>0</td>\n",
              "      <td>0</td>\n",
              "      <td>1</td>\n",
              "      <td>1</td>\n",
              "      <td>0</td>\n",
              "      <td>0</td>\n",
              "      <td>104</td>\n",
              "      <td>0</td>\n",
              "      <td>106</td>\n",
              "    </tr>\n",
              "    <tr>\n",
              "      <th>1</th>\n",
              "      <td>0</td>\n",
              "      <td>0</td>\n",
              "      <td>0</td>\n",
              "      <td>0</td>\n",
              "      <td>0</td>\n",
              "      <td>0</td>\n",
              "      <td>0</td>\n",
              "      <td>62</td>\n",
              "      <td>200</td>\n",
              "      <td>262</td>\n",
              "    </tr>\n",
              "    <tr>\n",
              "      <th>2</th>\n",
              "      <td>0</td>\n",
              "      <td>300</td>\n",
              "      <td>602</td>\n",
              "      <td>49</td>\n",
              "      <td>44</td>\n",
              "      <td>0</td>\n",
              "      <td>0</td>\n",
              "      <td>27</td>\n",
              "      <td>0</td>\n",
              "      <td>1022</td>\n",
              "    </tr>\n",
              "    <tr>\n",
              "      <th>3</th>\n",
              "      <td>0</td>\n",
              "      <td>0</td>\n",
              "      <td>292</td>\n",
              "      <td>7</td>\n",
              "      <td>0</td>\n",
              "      <td>0</td>\n",
              "      <td>0</td>\n",
              "      <td>5</td>\n",
              "      <td>0</td>\n",
              "      <td>304</td>\n",
              "    </tr>\n",
              "    <tr>\n",
              "      <th>4</th>\n",
              "      <td>320</td>\n",
              "      <td>1982</td>\n",
              "      <td>277</td>\n",
              "      <td>16</td>\n",
              "      <td>859</td>\n",
              "      <td>0</td>\n",
              "      <td>0</td>\n",
              "      <td>114</td>\n",
              "      <td>0</td>\n",
              "      <td>3568</td>\n",
              "    </tr>\n",
              "    <tr>\n",
              "      <th>5</th>\n",
              "      <td>0</td>\n",
              "      <td>0</td>\n",
              "      <td>0</td>\n",
              "      <td>0</td>\n",
              "      <td>0</td>\n",
              "      <td>2161</td>\n",
              "      <td>389</td>\n",
              "      <td>218</td>\n",
              "      <td>179</td>\n",
              "      <td>2947</td>\n",
              "    </tr>\n",
              "    <tr>\n",
              "      <th>6</th>\n",
              "      <td>0</td>\n",
              "      <td>0</td>\n",
              "      <td>0</td>\n",
              "      <td>0</td>\n",
              "      <td>0</td>\n",
              "      <td>0</td>\n",
              "      <td>0</td>\n",
              "      <td>222</td>\n",
              "      <td>0</td>\n",
              "      <td>222</td>\n",
              "    </tr>\n",
              "    <tr>\n",
              "      <th>7</th>\n",
              "      <td>299</td>\n",
              "      <td>0</td>\n",
              "      <td>3</td>\n",
              "      <td>0</td>\n",
              "      <td>0</td>\n",
              "      <td>0</td>\n",
              "      <td>0</td>\n",
              "      <td>51</td>\n",
              "      <td>0</td>\n",
              "      <td>353</td>\n",
              "    </tr>\n",
              "    <tr>\n",
              "      <th>Total</th>\n",
              "      <td>619</td>\n",
              "      <td>2282</td>\n",
              "      <td>1174</td>\n",
              "      <td>73</td>\n",
              "      <td>904</td>\n",
              "      <td>2161</td>\n",
              "      <td>389</td>\n",
              "      <td>803</td>\n",
              "      <td>379</td>\n",
              "      <td>8784</td>\n",
              "    </tr>\n",
              "  </tbody>\n",
              "</table>\n",
              "</div>\n",
              "      <button class=\"colab-df-convert\" onclick=\"convertToInteractive('df-f6379130-e024-44ea-afc8-2bed54c60435')\"\n",
              "              title=\"Convert this dataframe to an interactive table.\"\n",
              "              style=\"display:none;\">\n",
              "        \n",
              "  <svg xmlns=\"http://www.w3.org/2000/svg\" height=\"24px\"viewBox=\"0 0 24 24\"\n",
              "       width=\"24px\">\n",
              "    <path d=\"M0 0h24v24H0V0z\" fill=\"none\"/>\n",
              "    <path d=\"M18.56 5.44l.94 2.06.94-2.06 2.06-.94-2.06-.94-.94-2.06-.94 2.06-2.06.94zm-11 1L8.5 8.5l.94-2.06 2.06-.94-2.06-.94L8.5 2.5l-.94 2.06-2.06.94zm10 10l.94 2.06.94-2.06 2.06-.94-2.06-.94-.94-2.06-.94 2.06-2.06.94z\"/><path d=\"M17.41 7.96l-1.37-1.37c-.4-.4-.92-.59-1.43-.59-.52 0-1.04.2-1.43.59L10.3 9.45l-7.72 7.72c-.78.78-.78 2.05 0 2.83L4 21.41c.39.39.9.59 1.41.59.51 0 1.02-.2 1.41-.59l7.78-7.78 2.81-2.81c.8-.78.8-2.07 0-2.86zM5.41 20L4 18.59l7.72-7.72 1.47 1.35L5.41 20z\"/>\n",
              "  </svg>\n",
              "      </button>\n",
              "      \n",
              "  <style>\n",
              "    .colab-df-container {\n",
              "      display:flex;\n",
              "      flex-wrap:wrap;\n",
              "      gap: 12px;\n",
              "    }\n",
              "\n",
              "    .colab-df-convert {\n",
              "      background-color: #E8F0FE;\n",
              "      border: none;\n",
              "      border-radius: 50%;\n",
              "      cursor: pointer;\n",
              "      display: none;\n",
              "      fill: #1967D2;\n",
              "      height: 32px;\n",
              "      padding: 0 0 0 0;\n",
              "      width: 32px;\n",
              "    }\n",
              "\n",
              "    .colab-df-convert:hover {\n",
              "      background-color: #E2EBFA;\n",
              "      box-shadow: 0px 1px 2px rgba(60, 64, 67, 0.3), 0px 1px 3px 1px rgba(60, 64, 67, 0.15);\n",
              "      fill: #174EA6;\n",
              "    }\n",
              "\n",
              "    [theme=dark] .colab-df-convert {\n",
              "      background-color: #3B4455;\n",
              "      fill: #D2E3FC;\n",
              "    }\n",
              "\n",
              "    [theme=dark] .colab-df-convert:hover {\n",
              "      background-color: #434B5C;\n",
              "      box-shadow: 0px 1px 3px 1px rgba(0, 0, 0, 0.15);\n",
              "      filter: drop-shadow(0px 1px 2px rgba(0, 0, 0, 0.3));\n",
              "      fill: #FFFFFF;\n",
              "    }\n",
              "  </style>\n",
              "\n",
              "      <script>\n",
              "        const buttonEl =\n",
              "          document.querySelector('#df-f6379130-e024-44ea-afc8-2bed54c60435 button.colab-df-convert');\n",
              "        buttonEl.style.display =\n",
              "          google.colab.kernel.accessAllowed ? 'block' : 'none';\n",
              "\n",
              "        async function convertToInteractive(key) {\n",
              "          const element = document.querySelector('#df-f6379130-e024-44ea-afc8-2bed54c60435');\n",
              "          const dataTable =\n",
              "            await google.colab.kernel.invokeFunction('convertToInteractive',\n",
              "                                                     [key], {});\n",
              "          if (!dataTable) return;\n",
              "\n",
              "          const docLinkHtml = 'Like what you see? Visit the ' +\n",
              "            '<a target=\"_blank\" href=https://colab.research.google.com/notebooks/data_table.ipynb>data table notebook</a>'\n",
              "            + ' to learn more about interactive tables.';\n",
              "          element.innerHTML = '';\n",
              "          dataTable['output_type'] = 'display_data';\n",
              "          await google.colab.output.renderOutput(dataTable, element);\n",
              "          const docLink = document.createElement('div');\n",
              "          docLink.innerHTML = docLinkHtml;\n",
              "          element.appendChild(docLink);\n",
              "        }\n",
              "      </script>\n",
              "    </div>\n",
              "  </div>\n",
              "  "
            ]
          },
          "metadata": {},
          "execution_count": 18
        }
      ]
    },
    {
      "cell_type": "code",
      "source": [
        "round((pd.crosstab(pca_transformed2.cluster, pca_transformed2.Label, margins=True, margins_name=\"Total\", normalize=\"columns\")*100),2).astype(str)+'%'"
      ],
      "metadata": {
        "colab": {
          "base_uri": "https://localhost:8080/",
          "height": 332
        },
        "id": "U8rdnSaykScF",
        "outputId": "6baae20b-46e7-4329-ae3e-fbd1ab3b7cfa"
      },
      "execution_count": null,
      "outputs": [
        {
          "output_type": "execute_result",
          "data": {
            "text/plain": [
              "Label      Bot DDOS attack-HOIC DDoS attacks-LOIC-HTTP DoS attacks-GoldenEye  \\\n",
              "cluster                                                                        \n",
              "0         0.0%             0.0%                   0.0%                 1.37%   \n",
              "1         0.0%             0.0%                   0.0%                  0.0%   \n",
              "2         0.0%           13.15%                 51.28%                67.12%   \n",
              "3         0.0%             0.0%                 24.87%                 9.59%   \n",
              "4        51.7%           86.85%                 23.59%                21.92%   \n",
              "5         0.0%             0.0%                   0.0%                  0.0%   \n",
              "6         0.0%             0.0%                   0.0%                  0.0%   \n",
              "7        48.3%             0.0%                  0.26%                  0.0%   \n",
              "\n",
              "Label   DoS attacks-Hulk DoS attacks-SlowHTTPTest FTP-BruteForce  \\\n",
              "cluster                                                            \n",
              "0                  0.11%                     0.0%           0.0%   \n",
              "1                   0.0%                     0.0%           0.0%   \n",
              "2                  4.87%                     0.0%           0.0%   \n",
              "3                   0.0%                     0.0%           0.0%   \n",
              "4                 95.02%                     0.0%           0.0%   \n",
              "5                   0.0%                   100.0%         100.0%   \n",
              "6                   0.0%                     0.0%           0.0%   \n",
              "7                   0.0%                     0.0%           0.0%   \n",
              "\n",
              "Label   Infilteration SSH-Bruteforce   Total  \n",
              "cluster                                       \n",
              "0              12.95%           0.0%   1.21%  \n",
              "1               7.72%         52.77%   2.98%  \n",
              "2               3.36%           0.0%  11.63%  \n",
              "3               0.62%           0.0%   3.46%  \n",
              "4               14.2%           0.0%  40.62%  \n",
              "5              27.15%         47.23%  33.55%  \n",
              "6              27.65%           0.0%   2.53%  \n",
              "7               6.35%           0.0%   4.02%  "
            ],
            "text/html": [
              "\n",
              "  <div id=\"df-5ace3987-df95-4e7b-b3f9-01ef47403e51\">\n",
              "    <div class=\"colab-df-container\">\n",
              "      <div>\n",
              "<style scoped>\n",
              "    .dataframe tbody tr th:only-of-type {\n",
              "        vertical-align: middle;\n",
              "    }\n",
              "\n",
              "    .dataframe tbody tr th {\n",
              "        vertical-align: top;\n",
              "    }\n",
              "\n",
              "    .dataframe thead th {\n",
              "        text-align: right;\n",
              "    }\n",
              "</style>\n",
              "<table border=\"1\" class=\"dataframe\">\n",
              "  <thead>\n",
              "    <tr style=\"text-align: right;\">\n",
              "      <th>Label</th>\n",
              "      <th>Bot</th>\n",
              "      <th>DDOS attack-HOIC</th>\n",
              "      <th>DDoS attacks-LOIC-HTTP</th>\n",
              "      <th>DoS attacks-GoldenEye</th>\n",
              "      <th>DoS attacks-Hulk</th>\n",
              "      <th>DoS attacks-SlowHTTPTest</th>\n",
              "      <th>FTP-BruteForce</th>\n",
              "      <th>Infilteration</th>\n",
              "      <th>SSH-Bruteforce</th>\n",
              "      <th>Total</th>\n",
              "    </tr>\n",
              "    <tr>\n",
              "      <th>cluster</th>\n",
              "      <th></th>\n",
              "      <th></th>\n",
              "      <th></th>\n",
              "      <th></th>\n",
              "      <th></th>\n",
              "      <th></th>\n",
              "      <th></th>\n",
              "      <th></th>\n",
              "      <th></th>\n",
              "      <th></th>\n",
              "    </tr>\n",
              "  </thead>\n",
              "  <tbody>\n",
              "    <tr>\n",
              "      <th>0</th>\n",
              "      <td>0.0%</td>\n",
              "      <td>0.0%</td>\n",
              "      <td>0.0%</td>\n",
              "      <td>1.37%</td>\n",
              "      <td>0.11%</td>\n",
              "      <td>0.0%</td>\n",
              "      <td>0.0%</td>\n",
              "      <td>12.95%</td>\n",
              "      <td>0.0%</td>\n",
              "      <td>1.21%</td>\n",
              "    </tr>\n",
              "    <tr>\n",
              "      <th>1</th>\n",
              "      <td>0.0%</td>\n",
              "      <td>0.0%</td>\n",
              "      <td>0.0%</td>\n",
              "      <td>0.0%</td>\n",
              "      <td>0.0%</td>\n",
              "      <td>0.0%</td>\n",
              "      <td>0.0%</td>\n",
              "      <td>7.72%</td>\n",
              "      <td>52.77%</td>\n",
              "      <td>2.98%</td>\n",
              "    </tr>\n",
              "    <tr>\n",
              "      <th>2</th>\n",
              "      <td>0.0%</td>\n",
              "      <td>13.15%</td>\n",
              "      <td>51.28%</td>\n",
              "      <td>67.12%</td>\n",
              "      <td>4.87%</td>\n",
              "      <td>0.0%</td>\n",
              "      <td>0.0%</td>\n",
              "      <td>3.36%</td>\n",
              "      <td>0.0%</td>\n",
              "      <td>11.63%</td>\n",
              "    </tr>\n",
              "    <tr>\n",
              "      <th>3</th>\n",
              "      <td>0.0%</td>\n",
              "      <td>0.0%</td>\n",
              "      <td>24.87%</td>\n",
              "      <td>9.59%</td>\n",
              "      <td>0.0%</td>\n",
              "      <td>0.0%</td>\n",
              "      <td>0.0%</td>\n",
              "      <td>0.62%</td>\n",
              "      <td>0.0%</td>\n",
              "      <td>3.46%</td>\n",
              "    </tr>\n",
              "    <tr>\n",
              "      <th>4</th>\n",
              "      <td>51.7%</td>\n",
              "      <td>86.85%</td>\n",
              "      <td>23.59%</td>\n",
              "      <td>21.92%</td>\n",
              "      <td>95.02%</td>\n",
              "      <td>0.0%</td>\n",
              "      <td>0.0%</td>\n",
              "      <td>14.2%</td>\n",
              "      <td>0.0%</td>\n",
              "      <td>40.62%</td>\n",
              "    </tr>\n",
              "    <tr>\n",
              "      <th>5</th>\n",
              "      <td>0.0%</td>\n",
              "      <td>0.0%</td>\n",
              "      <td>0.0%</td>\n",
              "      <td>0.0%</td>\n",
              "      <td>0.0%</td>\n",
              "      <td>100.0%</td>\n",
              "      <td>100.0%</td>\n",
              "      <td>27.15%</td>\n",
              "      <td>47.23%</td>\n",
              "      <td>33.55%</td>\n",
              "    </tr>\n",
              "    <tr>\n",
              "      <th>6</th>\n",
              "      <td>0.0%</td>\n",
              "      <td>0.0%</td>\n",
              "      <td>0.0%</td>\n",
              "      <td>0.0%</td>\n",
              "      <td>0.0%</td>\n",
              "      <td>0.0%</td>\n",
              "      <td>0.0%</td>\n",
              "      <td>27.65%</td>\n",
              "      <td>0.0%</td>\n",
              "      <td>2.53%</td>\n",
              "    </tr>\n",
              "    <tr>\n",
              "      <th>7</th>\n",
              "      <td>48.3%</td>\n",
              "      <td>0.0%</td>\n",
              "      <td>0.26%</td>\n",
              "      <td>0.0%</td>\n",
              "      <td>0.0%</td>\n",
              "      <td>0.0%</td>\n",
              "      <td>0.0%</td>\n",
              "      <td>6.35%</td>\n",
              "      <td>0.0%</td>\n",
              "      <td>4.02%</td>\n",
              "    </tr>\n",
              "  </tbody>\n",
              "</table>\n",
              "</div>\n",
              "      <button class=\"colab-df-convert\" onclick=\"convertToInteractive('df-5ace3987-df95-4e7b-b3f9-01ef47403e51')\"\n",
              "              title=\"Convert this dataframe to an interactive table.\"\n",
              "              style=\"display:none;\">\n",
              "        \n",
              "  <svg xmlns=\"http://www.w3.org/2000/svg\" height=\"24px\"viewBox=\"0 0 24 24\"\n",
              "       width=\"24px\">\n",
              "    <path d=\"M0 0h24v24H0V0z\" fill=\"none\"/>\n",
              "    <path d=\"M18.56 5.44l.94 2.06.94-2.06 2.06-.94-2.06-.94-.94-2.06-.94 2.06-2.06.94zm-11 1L8.5 8.5l.94-2.06 2.06-.94-2.06-.94L8.5 2.5l-.94 2.06-2.06.94zm10 10l.94 2.06.94-2.06 2.06-.94-2.06-.94-.94-2.06-.94 2.06-2.06.94z\"/><path d=\"M17.41 7.96l-1.37-1.37c-.4-.4-.92-.59-1.43-.59-.52 0-1.04.2-1.43.59L10.3 9.45l-7.72 7.72c-.78.78-.78 2.05 0 2.83L4 21.41c.39.39.9.59 1.41.59.51 0 1.02-.2 1.41-.59l7.78-7.78 2.81-2.81c.8-.78.8-2.07 0-2.86zM5.41 20L4 18.59l7.72-7.72 1.47 1.35L5.41 20z\"/>\n",
              "  </svg>\n",
              "      </button>\n",
              "      \n",
              "  <style>\n",
              "    .colab-df-container {\n",
              "      display:flex;\n",
              "      flex-wrap:wrap;\n",
              "      gap: 12px;\n",
              "    }\n",
              "\n",
              "    .colab-df-convert {\n",
              "      background-color: #E8F0FE;\n",
              "      border: none;\n",
              "      border-radius: 50%;\n",
              "      cursor: pointer;\n",
              "      display: none;\n",
              "      fill: #1967D2;\n",
              "      height: 32px;\n",
              "      padding: 0 0 0 0;\n",
              "      width: 32px;\n",
              "    }\n",
              "\n",
              "    .colab-df-convert:hover {\n",
              "      background-color: #E2EBFA;\n",
              "      box-shadow: 0px 1px 2px rgba(60, 64, 67, 0.3), 0px 1px 3px 1px rgba(60, 64, 67, 0.15);\n",
              "      fill: #174EA6;\n",
              "    }\n",
              "\n",
              "    [theme=dark] .colab-df-convert {\n",
              "      background-color: #3B4455;\n",
              "      fill: #D2E3FC;\n",
              "    }\n",
              "\n",
              "    [theme=dark] .colab-df-convert:hover {\n",
              "      background-color: #434B5C;\n",
              "      box-shadow: 0px 1px 3px 1px rgba(0, 0, 0, 0.15);\n",
              "      filter: drop-shadow(0px 1px 2px rgba(0, 0, 0, 0.3));\n",
              "      fill: #FFFFFF;\n",
              "    }\n",
              "  </style>\n",
              "\n",
              "      <script>\n",
              "        const buttonEl =\n",
              "          document.querySelector('#df-5ace3987-df95-4e7b-b3f9-01ef47403e51 button.colab-df-convert');\n",
              "        buttonEl.style.display =\n",
              "          google.colab.kernel.accessAllowed ? 'block' : 'none';\n",
              "\n",
              "        async function convertToInteractive(key) {\n",
              "          const element = document.querySelector('#df-5ace3987-df95-4e7b-b3f9-01ef47403e51');\n",
              "          const dataTable =\n",
              "            await google.colab.kernel.invokeFunction('convertToInteractive',\n",
              "                                                     [key], {});\n",
              "          if (!dataTable) return;\n",
              "\n",
              "          const docLinkHtml = 'Like what you see? Visit the ' +\n",
              "            '<a target=\"_blank\" href=https://colab.research.google.com/notebooks/data_table.ipynb>data table notebook</a>'\n",
              "            + ' to learn more about interactive tables.';\n",
              "          element.innerHTML = '';\n",
              "          dataTable['output_type'] = 'display_data';\n",
              "          await google.colab.output.renderOutput(dataTable, element);\n",
              "          const docLink = document.createElement('div');\n",
              "          docLink.innerHTML = docLinkHtml;\n",
              "          element.appendChild(docLink);\n",
              "        }\n",
              "      </script>\n",
              "    </div>\n",
              "  </div>\n",
              "  "
            ]
          },
          "metadata": {},
          "execution_count": 19
        }
      ]
    },
    {
      "cell_type": "markdown",
      "source": [
        "By choosing number of clusters 8 we are able to group some labels into group below you may see Group with respective labels"
      ],
      "metadata": {
        "id": "2wxJ_vnCsGxi"
      }
    },
    {
      "cell_type": "markdown",
      "source": [
        "Group1 = Bot, DDosHoic, DosHulk<br>\n",
        "Group2 = BruteForce, SlowHttpTest\n",
        "\n",
        "\n"
      ],
      "metadata": {
        "id": "0-YgbOHxLIlQ"
      }
    },
    {
      "cell_type": "code",
      "source": [
        "# model = AgglomerativeClustering(n_clusters=2,linkage='single').fit(pca_transformed2.drop(\"Label\",axis=1))\n",
        "# pca_transformed2['cluster'] = model.fit_predict(pca_transformed2.drop(\"Label\",axis=1))\n",
        "# round((pd.crosstab(pca_transformed2.cluster, pca_transformed2.Label, margins=True, margins_name=\"Total\", normalize=\"columns\")*100),2).astype(str)+'%'"
      ],
      "metadata": {
        "colab": {
          "base_uri": "https://localhost:8080/",
          "height": 205
        },
        "id": "IYj1SSsZBOOq",
        "outputId": "fdbeb494-61f7-46b2-dc6f-99f06c18a9af"
      },
      "execution_count": null,
      "outputs": [
        {
          "output_type": "execute_result",
          "data": {
            "text/plain": [
              "Label       Bot DDOS attack-HOIC DDoS attacks-LOIC-HTTP DoS attacks-GoldenEye  \\\n",
              "cluster                                                                         \n",
              "0        100.0%           100.0%                 100.0%                100.0%   \n",
              "1          0.0%             0.0%                   0.0%                  0.0%   \n",
              "\n",
              "Label   DoS attacks-Hulk DoS attacks-SlowHTTPTest FTP-BruteForce  \\\n",
              "cluster                                                            \n",
              "0                 99.78%                   100.0%         100.0%   \n",
              "1                  0.22%                     0.0%           0.0%   \n",
              "\n",
              "Label   Infilteration SSH-Bruteforce   Total  \n",
              "cluster                                       \n",
              "0              100.0%         100.0%  99.98%  \n",
              "1                0.0%           0.0%   0.02%  "
            ],
            "text/html": [
              "\n",
              "  <div id=\"df-5c3ddcb2-8d71-4902-ab83-527df9c68753\">\n",
              "    <div class=\"colab-df-container\">\n",
              "      <div>\n",
              "<style scoped>\n",
              "    .dataframe tbody tr th:only-of-type {\n",
              "        vertical-align: middle;\n",
              "    }\n",
              "\n",
              "    .dataframe tbody tr th {\n",
              "        vertical-align: top;\n",
              "    }\n",
              "\n",
              "    .dataframe thead th {\n",
              "        text-align: right;\n",
              "    }\n",
              "</style>\n",
              "<table border=\"1\" class=\"dataframe\">\n",
              "  <thead>\n",
              "    <tr style=\"text-align: right;\">\n",
              "      <th>Label</th>\n",
              "      <th>Bot</th>\n",
              "      <th>DDOS attack-HOIC</th>\n",
              "      <th>DDoS attacks-LOIC-HTTP</th>\n",
              "      <th>DoS attacks-GoldenEye</th>\n",
              "      <th>DoS attacks-Hulk</th>\n",
              "      <th>DoS attacks-SlowHTTPTest</th>\n",
              "      <th>FTP-BruteForce</th>\n",
              "      <th>Infilteration</th>\n",
              "      <th>SSH-Bruteforce</th>\n",
              "      <th>Total</th>\n",
              "    </tr>\n",
              "    <tr>\n",
              "      <th>cluster</th>\n",
              "      <th></th>\n",
              "      <th></th>\n",
              "      <th></th>\n",
              "      <th></th>\n",
              "      <th></th>\n",
              "      <th></th>\n",
              "      <th></th>\n",
              "      <th></th>\n",
              "      <th></th>\n",
              "      <th></th>\n",
              "    </tr>\n",
              "  </thead>\n",
              "  <tbody>\n",
              "    <tr>\n",
              "      <th>0</th>\n",
              "      <td>100.0%</td>\n",
              "      <td>100.0%</td>\n",
              "      <td>100.0%</td>\n",
              "      <td>100.0%</td>\n",
              "      <td>99.78%</td>\n",
              "      <td>100.0%</td>\n",
              "      <td>100.0%</td>\n",
              "      <td>100.0%</td>\n",
              "      <td>100.0%</td>\n",
              "      <td>99.98%</td>\n",
              "    </tr>\n",
              "    <tr>\n",
              "      <th>1</th>\n",
              "      <td>0.0%</td>\n",
              "      <td>0.0%</td>\n",
              "      <td>0.0%</td>\n",
              "      <td>0.0%</td>\n",
              "      <td>0.22%</td>\n",
              "      <td>0.0%</td>\n",
              "      <td>0.0%</td>\n",
              "      <td>0.0%</td>\n",
              "      <td>0.0%</td>\n",
              "      <td>0.02%</td>\n",
              "    </tr>\n",
              "  </tbody>\n",
              "</table>\n",
              "</div>\n",
              "      <button class=\"colab-df-convert\" onclick=\"convertToInteractive('df-5c3ddcb2-8d71-4902-ab83-527df9c68753')\"\n",
              "              title=\"Convert this dataframe to an interactive table.\"\n",
              "              style=\"display:none;\">\n",
              "        \n",
              "  <svg xmlns=\"http://www.w3.org/2000/svg\" height=\"24px\"viewBox=\"0 0 24 24\"\n",
              "       width=\"24px\">\n",
              "    <path d=\"M0 0h24v24H0V0z\" fill=\"none\"/>\n",
              "    <path d=\"M18.56 5.44l.94 2.06.94-2.06 2.06-.94-2.06-.94-.94-2.06-.94 2.06-2.06.94zm-11 1L8.5 8.5l.94-2.06 2.06-.94-2.06-.94L8.5 2.5l-.94 2.06-2.06.94zm10 10l.94 2.06.94-2.06 2.06-.94-2.06-.94-.94-2.06-.94 2.06-2.06.94z\"/><path d=\"M17.41 7.96l-1.37-1.37c-.4-.4-.92-.59-1.43-.59-.52 0-1.04.2-1.43.59L10.3 9.45l-7.72 7.72c-.78.78-.78 2.05 0 2.83L4 21.41c.39.39.9.59 1.41.59.51 0 1.02-.2 1.41-.59l7.78-7.78 2.81-2.81c.8-.78.8-2.07 0-2.86zM5.41 20L4 18.59l7.72-7.72 1.47 1.35L5.41 20z\"/>\n",
              "  </svg>\n",
              "      </button>\n",
              "      \n",
              "  <style>\n",
              "    .colab-df-container {\n",
              "      display:flex;\n",
              "      flex-wrap:wrap;\n",
              "      gap: 12px;\n",
              "    }\n",
              "\n",
              "    .colab-df-convert {\n",
              "      background-color: #E8F0FE;\n",
              "      border: none;\n",
              "      border-radius: 50%;\n",
              "      cursor: pointer;\n",
              "      display: none;\n",
              "      fill: #1967D2;\n",
              "      height: 32px;\n",
              "      padding: 0 0 0 0;\n",
              "      width: 32px;\n",
              "    }\n",
              "\n",
              "    .colab-df-convert:hover {\n",
              "      background-color: #E2EBFA;\n",
              "      box-shadow: 0px 1px 2px rgba(60, 64, 67, 0.3), 0px 1px 3px 1px rgba(60, 64, 67, 0.15);\n",
              "      fill: #174EA6;\n",
              "    }\n",
              "\n",
              "    [theme=dark] .colab-df-convert {\n",
              "      background-color: #3B4455;\n",
              "      fill: #D2E3FC;\n",
              "    }\n",
              "\n",
              "    [theme=dark] .colab-df-convert:hover {\n",
              "      background-color: #434B5C;\n",
              "      box-shadow: 0px 1px 3px 1px rgba(0, 0, 0, 0.15);\n",
              "      filter: drop-shadow(0px 1px 2px rgba(0, 0, 0, 0.3));\n",
              "      fill: #FFFFFF;\n",
              "    }\n",
              "  </style>\n",
              "\n",
              "      <script>\n",
              "        const buttonEl =\n",
              "          document.querySelector('#df-5c3ddcb2-8d71-4902-ab83-527df9c68753 button.colab-df-convert');\n",
              "        buttonEl.style.display =\n",
              "          google.colab.kernel.accessAllowed ? 'block' : 'none';\n",
              "\n",
              "        async function convertToInteractive(key) {\n",
              "          const element = document.querySelector('#df-5c3ddcb2-8d71-4902-ab83-527df9c68753');\n",
              "          const dataTable =\n",
              "            await google.colab.kernel.invokeFunction('convertToInteractive',\n",
              "                                                     [key], {});\n",
              "          if (!dataTable) return;\n",
              "\n",
              "          const docLinkHtml = 'Like what you see? Visit the ' +\n",
              "            '<a target=\"_blank\" href=https://colab.research.google.com/notebooks/data_table.ipynb>data table notebook</a>'\n",
              "            + ' to learn more about interactive tables.';\n",
              "          element.innerHTML = '';\n",
              "          dataTable['output_type'] = 'display_data';\n",
              "          await google.colab.output.renderOutput(dataTable, element);\n",
              "          const docLink = document.createElement('div');\n",
              "          docLink.innerHTML = docLinkHtml;\n",
              "          element.appendChild(docLink);\n",
              "        }\n",
              "      </script>\n",
              "    </div>\n",
              "  </div>\n",
              "  "
            ]
          },
          "metadata": {},
          "execution_count": 242
        }
      ]
    },
    {
      "cell_type": "code",
      "source": [
        "# model = AgglomerativeClustering(n_clusters=2,linkage='average').fit(pca_transformed2.drop(\"Label\",axis=1))\n",
        "# pca_transformed2['cluster'] = model.fit_predict(pca_transformed2.drop(\"Label\",axis=1))\n",
        "# round((pd.crosstab(pca_transformed2.cluster, pca_transformed2.Label, margins=True, margins_name=\"Total\", normalize=\"columns\")*100),2).astype(str)+'%'"
      ],
      "metadata": {
        "colab": {
          "base_uri": "https://localhost:8080/",
          "height": 205
        },
        "id": "-4UByzkasYcY",
        "outputId": "da17f055-7f7e-4963-8167-7c8abfcc1ca5"
      },
      "execution_count": null,
      "outputs": [
        {
          "output_type": "execute_result",
          "data": {
            "text/plain": [
              "Label       Bot DDOS attack-HOIC DDoS attacks-LOIC-HTTP DoS attacks-GoldenEye  \\\n",
              "cluster                                                                         \n",
              "0          0.0%             0.0%                   0.0%                 6.17%   \n",
              "1        100.0%           100.0%                 100.0%                93.83%   \n",
              "\n",
              "Label   DoS attacks-Hulk DoS attacks-SlowHTTPTest FTP-BruteForce  \\\n",
              "cluster                                                            \n",
              "0                  0.22%                     0.0%           0.0%   \n",
              "1                 99.78%                   100.0%         100.0%   \n",
              "\n",
              "Label   Infilteration SSH-Bruteforce   Total  \n",
              "cluster                                       \n",
              "0              10.73%           0.0%   1.04%  \n",
              "1              89.27%         100.0%  98.96%  "
            ],
            "text/html": [
              "\n",
              "  <div id=\"df-9c9b68bb-f503-4634-8ca1-e7a8ea95a1b7\">\n",
              "    <div class=\"colab-df-container\">\n",
              "      <div>\n",
              "<style scoped>\n",
              "    .dataframe tbody tr th:only-of-type {\n",
              "        vertical-align: middle;\n",
              "    }\n",
              "\n",
              "    .dataframe tbody tr th {\n",
              "        vertical-align: top;\n",
              "    }\n",
              "\n",
              "    .dataframe thead th {\n",
              "        text-align: right;\n",
              "    }\n",
              "</style>\n",
              "<table border=\"1\" class=\"dataframe\">\n",
              "  <thead>\n",
              "    <tr style=\"text-align: right;\">\n",
              "      <th>Label</th>\n",
              "      <th>Bot</th>\n",
              "      <th>DDOS attack-HOIC</th>\n",
              "      <th>DDoS attacks-LOIC-HTTP</th>\n",
              "      <th>DoS attacks-GoldenEye</th>\n",
              "      <th>DoS attacks-Hulk</th>\n",
              "      <th>DoS attacks-SlowHTTPTest</th>\n",
              "      <th>FTP-BruteForce</th>\n",
              "      <th>Infilteration</th>\n",
              "      <th>SSH-Bruteforce</th>\n",
              "      <th>Total</th>\n",
              "    </tr>\n",
              "    <tr>\n",
              "      <th>cluster</th>\n",
              "      <th></th>\n",
              "      <th></th>\n",
              "      <th></th>\n",
              "      <th></th>\n",
              "      <th></th>\n",
              "      <th></th>\n",
              "      <th></th>\n",
              "      <th></th>\n",
              "      <th></th>\n",
              "      <th></th>\n",
              "    </tr>\n",
              "  </thead>\n",
              "  <tbody>\n",
              "    <tr>\n",
              "      <th>0</th>\n",
              "      <td>0.0%</td>\n",
              "      <td>0.0%</td>\n",
              "      <td>0.0%</td>\n",
              "      <td>6.17%</td>\n",
              "      <td>0.22%</td>\n",
              "      <td>0.0%</td>\n",
              "      <td>0.0%</td>\n",
              "      <td>10.73%</td>\n",
              "      <td>0.0%</td>\n",
              "      <td>1.04%</td>\n",
              "    </tr>\n",
              "    <tr>\n",
              "      <th>1</th>\n",
              "      <td>100.0%</td>\n",
              "      <td>100.0%</td>\n",
              "      <td>100.0%</td>\n",
              "      <td>93.83%</td>\n",
              "      <td>99.78%</td>\n",
              "      <td>100.0%</td>\n",
              "      <td>100.0%</td>\n",
              "      <td>89.27%</td>\n",
              "      <td>100.0%</td>\n",
              "      <td>98.96%</td>\n",
              "    </tr>\n",
              "  </tbody>\n",
              "</table>\n",
              "</div>\n",
              "      <button class=\"colab-df-convert\" onclick=\"convertToInteractive('df-9c9b68bb-f503-4634-8ca1-e7a8ea95a1b7')\"\n",
              "              title=\"Convert this dataframe to an interactive table.\"\n",
              "              style=\"display:none;\">\n",
              "        \n",
              "  <svg xmlns=\"http://www.w3.org/2000/svg\" height=\"24px\"viewBox=\"0 0 24 24\"\n",
              "       width=\"24px\">\n",
              "    <path d=\"M0 0h24v24H0V0z\" fill=\"none\"/>\n",
              "    <path d=\"M18.56 5.44l.94 2.06.94-2.06 2.06-.94-2.06-.94-.94-2.06-.94 2.06-2.06.94zm-11 1L8.5 8.5l.94-2.06 2.06-.94-2.06-.94L8.5 2.5l-.94 2.06-2.06.94zm10 10l.94 2.06.94-2.06 2.06-.94-2.06-.94-.94-2.06-.94 2.06-2.06.94z\"/><path d=\"M17.41 7.96l-1.37-1.37c-.4-.4-.92-.59-1.43-.59-.52 0-1.04.2-1.43.59L10.3 9.45l-7.72 7.72c-.78.78-.78 2.05 0 2.83L4 21.41c.39.39.9.59 1.41.59.51 0 1.02-.2 1.41-.59l7.78-7.78 2.81-2.81c.8-.78.8-2.07 0-2.86zM5.41 20L4 18.59l7.72-7.72 1.47 1.35L5.41 20z\"/>\n",
              "  </svg>\n",
              "      </button>\n",
              "      \n",
              "  <style>\n",
              "    .colab-df-container {\n",
              "      display:flex;\n",
              "      flex-wrap:wrap;\n",
              "      gap: 12px;\n",
              "    }\n",
              "\n",
              "    .colab-df-convert {\n",
              "      background-color: #E8F0FE;\n",
              "      border: none;\n",
              "      border-radius: 50%;\n",
              "      cursor: pointer;\n",
              "      display: none;\n",
              "      fill: #1967D2;\n",
              "      height: 32px;\n",
              "      padding: 0 0 0 0;\n",
              "      width: 32px;\n",
              "    }\n",
              "\n",
              "    .colab-df-convert:hover {\n",
              "      background-color: #E2EBFA;\n",
              "      box-shadow: 0px 1px 2px rgba(60, 64, 67, 0.3), 0px 1px 3px 1px rgba(60, 64, 67, 0.15);\n",
              "      fill: #174EA6;\n",
              "    }\n",
              "\n",
              "    [theme=dark] .colab-df-convert {\n",
              "      background-color: #3B4455;\n",
              "      fill: #D2E3FC;\n",
              "    }\n",
              "\n",
              "    [theme=dark] .colab-df-convert:hover {\n",
              "      background-color: #434B5C;\n",
              "      box-shadow: 0px 1px 3px 1px rgba(0, 0, 0, 0.15);\n",
              "      filter: drop-shadow(0px 1px 2px rgba(0, 0, 0, 0.3));\n",
              "      fill: #FFFFFF;\n",
              "    }\n",
              "  </style>\n",
              "\n",
              "      <script>\n",
              "        const buttonEl =\n",
              "          document.querySelector('#df-9c9b68bb-f503-4634-8ca1-e7a8ea95a1b7 button.colab-df-convert');\n",
              "        buttonEl.style.display =\n",
              "          google.colab.kernel.accessAllowed ? 'block' : 'none';\n",
              "\n",
              "        async function convertToInteractive(key) {\n",
              "          const element = document.querySelector('#df-9c9b68bb-f503-4634-8ca1-e7a8ea95a1b7');\n",
              "          const dataTable =\n",
              "            await google.colab.kernel.invokeFunction('convertToInteractive',\n",
              "                                                     [key], {});\n",
              "          if (!dataTable) return;\n",
              "\n",
              "          const docLinkHtml = 'Like what you see? Visit the ' +\n",
              "            '<a target=\"_blank\" href=https://colab.research.google.com/notebooks/data_table.ipynb>data table notebook</a>'\n",
              "            + ' to learn more about interactive tables.';\n",
              "          element.innerHTML = '';\n",
              "          dataTable['output_type'] = 'display_data';\n",
              "          await google.colab.output.renderOutput(dataTable, element);\n",
              "          const docLink = document.createElement('div');\n",
              "          docLink.innerHTML = docLinkHtml;\n",
              "          element.appendChild(docLink);\n",
              "        }\n",
              "      </script>\n",
              "    </div>\n",
              "  </div>\n",
              "  "
            ]
          },
          "metadata": {},
          "execution_count": 243
        }
      ]
    },
    {
      "cell_type": "code",
      "source": [
        "df = pca_transformed2.groupby(['cluster',\"Label\"],as_index=False).size()\n",
        "df"
      ],
      "metadata": {
        "colab": {
          "base_uri": "https://localhost:8080/",
          "height": 1000
        },
        "id": "DkxmW_vVBcN3",
        "outputId": "807cbde0-4b28-4ccb-aa3d-08d2c417faed"
      },
      "execution_count": null,
      "outputs": [
        {
          "output_type": "execute_result",
          "data": {
            "text/plain": [
              "    cluster                     Label  size\n",
              "0         0                       Bot     1\n",
              "1         0     DoS attacks-GoldenEye     1\n",
              "2         0          DoS attacks-Hulk     4\n",
              "3         0             Infilteration   113\n",
              "4         1             Infilteration    70\n",
              "5         1            SSH-Bruteforce   208\n",
              "6         2                       Bot   280\n",
              "7         2          DDOS attack-HOIC   297\n",
              "8         2     DoS attacks-GoldenEye     8\n",
              "9         2          DoS attacks-Hulk    24\n",
              "10        2             Infilteration    25\n",
              "11        3    DDoS attacks-LOIC-HTTP   563\n",
              "12        3     DoS attacks-GoldenEye    41\n",
              "13        3          DoS attacks-Hulk    19\n",
              "14        3             Infilteration     3\n",
              "15        4                       Bot   286\n",
              "16        4          DDOS attack-HOIC  2003\n",
              "17        4    DDoS attacks-LOIC-HTTP   276\n",
              "18        4     DoS attacks-GoldenEye    19\n",
              "19        4          DoS attacks-Hulk   903\n",
              "20        4             Infilteration   104\n",
              "21        5                       Bot     1\n",
              "22        5          DoS attacks-Hulk     1\n",
              "23        5  DoS attacks-SlowHTTPTest  2166\n",
              "24        5            FTP-BruteForce   361\n",
              "25        5             Infilteration   222\n",
              "26        5            SSH-Bruteforce   193\n",
              "27        6             Infilteration   238\n",
              "28        7    DDoS attacks-LOIC-HTTP   336\n",
              "29        7     DoS attacks-GoldenEye    11\n",
              "30        7             Infilteration     7"
            ],
            "text/html": [
              "\n",
              "  <div id=\"df-8e11f2ac-c92c-4593-af14-6414d02dcc54\">\n",
              "    <div class=\"colab-df-container\">\n",
              "      <div>\n",
              "<style scoped>\n",
              "    .dataframe tbody tr th:only-of-type {\n",
              "        vertical-align: middle;\n",
              "    }\n",
              "\n",
              "    .dataframe tbody tr th {\n",
              "        vertical-align: top;\n",
              "    }\n",
              "\n",
              "    .dataframe thead th {\n",
              "        text-align: right;\n",
              "    }\n",
              "</style>\n",
              "<table border=\"1\" class=\"dataframe\">\n",
              "  <thead>\n",
              "    <tr style=\"text-align: right;\">\n",
              "      <th></th>\n",
              "      <th>cluster</th>\n",
              "      <th>Label</th>\n",
              "      <th>size</th>\n",
              "    </tr>\n",
              "  </thead>\n",
              "  <tbody>\n",
              "    <tr>\n",
              "      <th>0</th>\n",
              "      <td>0</td>\n",
              "      <td>Bot</td>\n",
              "      <td>1</td>\n",
              "    </tr>\n",
              "    <tr>\n",
              "      <th>1</th>\n",
              "      <td>0</td>\n",
              "      <td>DoS attacks-GoldenEye</td>\n",
              "      <td>1</td>\n",
              "    </tr>\n",
              "    <tr>\n",
              "      <th>2</th>\n",
              "      <td>0</td>\n",
              "      <td>DoS attacks-Hulk</td>\n",
              "      <td>4</td>\n",
              "    </tr>\n",
              "    <tr>\n",
              "      <th>3</th>\n",
              "      <td>0</td>\n",
              "      <td>Infilteration</td>\n",
              "      <td>113</td>\n",
              "    </tr>\n",
              "    <tr>\n",
              "      <th>4</th>\n",
              "      <td>1</td>\n",
              "      <td>Infilteration</td>\n",
              "      <td>70</td>\n",
              "    </tr>\n",
              "    <tr>\n",
              "      <th>5</th>\n",
              "      <td>1</td>\n",
              "      <td>SSH-Bruteforce</td>\n",
              "      <td>208</td>\n",
              "    </tr>\n",
              "    <tr>\n",
              "      <th>6</th>\n",
              "      <td>2</td>\n",
              "      <td>Bot</td>\n",
              "      <td>280</td>\n",
              "    </tr>\n",
              "    <tr>\n",
              "      <th>7</th>\n",
              "      <td>2</td>\n",
              "      <td>DDOS attack-HOIC</td>\n",
              "      <td>297</td>\n",
              "    </tr>\n",
              "    <tr>\n",
              "      <th>8</th>\n",
              "      <td>2</td>\n",
              "      <td>DoS attacks-GoldenEye</td>\n",
              "      <td>8</td>\n",
              "    </tr>\n",
              "    <tr>\n",
              "      <th>9</th>\n",
              "      <td>2</td>\n",
              "      <td>DoS attacks-Hulk</td>\n",
              "      <td>24</td>\n",
              "    </tr>\n",
              "    <tr>\n",
              "      <th>10</th>\n",
              "      <td>2</td>\n",
              "      <td>Infilteration</td>\n",
              "      <td>25</td>\n",
              "    </tr>\n",
              "    <tr>\n",
              "      <th>11</th>\n",
              "      <td>3</td>\n",
              "      <td>DDoS attacks-LOIC-HTTP</td>\n",
              "      <td>563</td>\n",
              "    </tr>\n",
              "    <tr>\n",
              "      <th>12</th>\n",
              "      <td>3</td>\n",
              "      <td>DoS attacks-GoldenEye</td>\n",
              "      <td>41</td>\n",
              "    </tr>\n",
              "    <tr>\n",
              "      <th>13</th>\n",
              "      <td>3</td>\n",
              "      <td>DoS attacks-Hulk</td>\n",
              "      <td>19</td>\n",
              "    </tr>\n",
              "    <tr>\n",
              "      <th>14</th>\n",
              "      <td>3</td>\n",
              "      <td>Infilteration</td>\n",
              "      <td>3</td>\n",
              "    </tr>\n",
              "    <tr>\n",
              "      <th>15</th>\n",
              "      <td>4</td>\n",
              "      <td>Bot</td>\n",
              "      <td>286</td>\n",
              "    </tr>\n",
              "    <tr>\n",
              "      <th>16</th>\n",
              "      <td>4</td>\n",
              "      <td>DDOS attack-HOIC</td>\n",
              "      <td>2003</td>\n",
              "    </tr>\n",
              "    <tr>\n",
              "      <th>17</th>\n",
              "      <td>4</td>\n",
              "      <td>DDoS attacks-LOIC-HTTP</td>\n",
              "      <td>276</td>\n",
              "    </tr>\n",
              "    <tr>\n",
              "      <th>18</th>\n",
              "      <td>4</td>\n",
              "      <td>DoS attacks-GoldenEye</td>\n",
              "      <td>19</td>\n",
              "    </tr>\n",
              "    <tr>\n",
              "      <th>19</th>\n",
              "      <td>4</td>\n",
              "      <td>DoS attacks-Hulk</td>\n",
              "      <td>903</td>\n",
              "    </tr>\n",
              "    <tr>\n",
              "      <th>20</th>\n",
              "      <td>4</td>\n",
              "      <td>Infilteration</td>\n",
              "      <td>104</td>\n",
              "    </tr>\n",
              "    <tr>\n",
              "      <th>21</th>\n",
              "      <td>5</td>\n",
              "      <td>Bot</td>\n",
              "      <td>1</td>\n",
              "    </tr>\n",
              "    <tr>\n",
              "      <th>22</th>\n",
              "      <td>5</td>\n",
              "      <td>DoS attacks-Hulk</td>\n",
              "      <td>1</td>\n",
              "    </tr>\n",
              "    <tr>\n",
              "      <th>23</th>\n",
              "      <td>5</td>\n",
              "      <td>DoS attacks-SlowHTTPTest</td>\n",
              "      <td>2166</td>\n",
              "    </tr>\n",
              "    <tr>\n",
              "      <th>24</th>\n",
              "      <td>5</td>\n",
              "      <td>FTP-BruteForce</td>\n",
              "      <td>361</td>\n",
              "    </tr>\n",
              "    <tr>\n",
              "      <th>25</th>\n",
              "      <td>5</td>\n",
              "      <td>Infilteration</td>\n",
              "      <td>222</td>\n",
              "    </tr>\n",
              "    <tr>\n",
              "      <th>26</th>\n",
              "      <td>5</td>\n",
              "      <td>SSH-Bruteforce</td>\n",
              "      <td>193</td>\n",
              "    </tr>\n",
              "    <tr>\n",
              "      <th>27</th>\n",
              "      <td>6</td>\n",
              "      <td>Infilteration</td>\n",
              "      <td>238</td>\n",
              "    </tr>\n",
              "    <tr>\n",
              "      <th>28</th>\n",
              "      <td>7</td>\n",
              "      <td>DDoS attacks-LOIC-HTTP</td>\n",
              "      <td>336</td>\n",
              "    </tr>\n",
              "    <tr>\n",
              "      <th>29</th>\n",
              "      <td>7</td>\n",
              "      <td>DoS attacks-GoldenEye</td>\n",
              "      <td>11</td>\n",
              "    </tr>\n",
              "    <tr>\n",
              "      <th>30</th>\n",
              "      <td>7</td>\n",
              "      <td>Infilteration</td>\n",
              "      <td>7</td>\n",
              "    </tr>\n",
              "  </tbody>\n",
              "</table>\n",
              "</div>\n",
              "      <button class=\"colab-df-convert\" onclick=\"convertToInteractive('df-8e11f2ac-c92c-4593-af14-6414d02dcc54')\"\n",
              "              title=\"Convert this dataframe to an interactive table.\"\n",
              "              style=\"display:none;\">\n",
              "        \n",
              "  <svg xmlns=\"http://www.w3.org/2000/svg\" height=\"24px\"viewBox=\"0 0 24 24\"\n",
              "       width=\"24px\">\n",
              "    <path d=\"M0 0h24v24H0V0z\" fill=\"none\"/>\n",
              "    <path d=\"M18.56 5.44l.94 2.06.94-2.06 2.06-.94-2.06-.94-.94-2.06-.94 2.06-2.06.94zm-11 1L8.5 8.5l.94-2.06 2.06-.94-2.06-.94L8.5 2.5l-.94 2.06-2.06.94zm10 10l.94 2.06.94-2.06 2.06-.94-2.06-.94-.94-2.06-.94 2.06-2.06.94z\"/><path d=\"M17.41 7.96l-1.37-1.37c-.4-.4-.92-.59-1.43-.59-.52 0-1.04.2-1.43.59L10.3 9.45l-7.72 7.72c-.78.78-.78 2.05 0 2.83L4 21.41c.39.39.9.59 1.41.59.51 0 1.02-.2 1.41-.59l7.78-7.78 2.81-2.81c.8-.78.8-2.07 0-2.86zM5.41 20L4 18.59l7.72-7.72 1.47 1.35L5.41 20z\"/>\n",
              "  </svg>\n",
              "      </button>\n",
              "      \n",
              "  <style>\n",
              "    .colab-df-container {\n",
              "      display:flex;\n",
              "      flex-wrap:wrap;\n",
              "      gap: 12px;\n",
              "    }\n",
              "\n",
              "    .colab-df-convert {\n",
              "      background-color: #E8F0FE;\n",
              "      border: none;\n",
              "      border-radius: 50%;\n",
              "      cursor: pointer;\n",
              "      display: none;\n",
              "      fill: #1967D2;\n",
              "      height: 32px;\n",
              "      padding: 0 0 0 0;\n",
              "      width: 32px;\n",
              "    }\n",
              "\n",
              "    .colab-df-convert:hover {\n",
              "      background-color: #E2EBFA;\n",
              "      box-shadow: 0px 1px 2px rgba(60, 64, 67, 0.3), 0px 1px 3px 1px rgba(60, 64, 67, 0.15);\n",
              "      fill: #174EA6;\n",
              "    }\n",
              "\n",
              "    [theme=dark] .colab-df-convert {\n",
              "      background-color: #3B4455;\n",
              "      fill: #D2E3FC;\n",
              "    }\n",
              "\n",
              "    [theme=dark] .colab-df-convert:hover {\n",
              "      background-color: #434B5C;\n",
              "      box-shadow: 0px 1px 3px 1px rgba(0, 0, 0, 0.15);\n",
              "      filter: drop-shadow(0px 1px 2px rgba(0, 0, 0, 0.3));\n",
              "      fill: #FFFFFF;\n",
              "    }\n",
              "  </style>\n",
              "\n",
              "      <script>\n",
              "        const buttonEl =\n",
              "          document.querySelector('#df-8e11f2ac-c92c-4593-af14-6414d02dcc54 button.colab-df-convert');\n",
              "        buttonEl.style.display =\n",
              "          google.colab.kernel.accessAllowed ? 'block' : 'none';\n",
              "\n",
              "        async function convertToInteractive(key) {\n",
              "          const element = document.querySelector('#df-8e11f2ac-c92c-4593-af14-6414d02dcc54');\n",
              "          const dataTable =\n",
              "            await google.colab.kernel.invokeFunction('convertToInteractive',\n",
              "                                                     [key], {});\n",
              "          if (!dataTable) return;\n",
              "\n",
              "          const docLinkHtml = 'Like what you see? Visit the ' +\n",
              "            '<a target=\"_blank\" href=https://colab.research.google.com/notebooks/data_table.ipynb>data table notebook</a>'\n",
              "            + ' to learn more about interactive tables.';\n",
              "          element.innerHTML = '';\n",
              "          dataTable['output_type'] = 'display_data';\n",
              "          await google.colab.output.renderOutput(dataTable, element);\n",
              "          const docLink = document.createElement('div');\n",
              "          docLink.innerHTML = docLinkHtml;\n",
              "          element.appendChild(docLink);\n",
              "        }\n",
              "      </script>\n",
              "    </div>\n",
              "  </div>\n",
              "  "
            ]
          },
          "metadata": {},
          "execution_count": 22
        }
      ]
    },
    {
      "cell_type": "code",
      "source": [
        "tsne = TSNE(n_components=2, verbose=1, random_state=123)\n",
        "z = tsne.fit_transform(pca_transformed2.drop(columns=[\"Label\",\"cluster\"]))\n",
        "df = pd.DataFrame()\n",
        "df[\"y\"] = pca_transformed2[\"cluster\"]\n",
        "df[\"comp-1\"] = z[:,0]\n",
        "df[\"comp-2\"] = z[:,1]\n"
      ],
      "metadata": {
        "id": "mFkqm4gTlSNl"
      },
      "execution_count": null,
      "outputs": []
    },
    {
      "cell_type": "code",
      "source": [
        "sns.scatterplot(x=\"comp-1\", y=\"comp-2\", hue=df.y.tolist(),\n",
        "                palette=sns.color_palette(\"hls\", 8),\n",
        "                data=df).set(title=\"Iris data T-SNE projection\") "
      ],
      "metadata": {
        "colab": {
          "base_uri": "https://localhost:8080/",
          "height": 312
        },
        "id": "0ysa7zuGxIil",
        "outputId": "65548ad8-c0e2-4b20-f839-ac495195fee3"
      },
      "execution_count": null,
      "outputs": [
        {
          "output_type": "execute_result",
          "data": {
            "text/plain": [
              "[Text(0.5, 1.0, 'Iris data T-SNE projection')]"
            ]
          },
          "metadata": {},
          "execution_count": 34
        },
        {
          "output_type": "display_data",
          "data": {
            "text/plain": [
              "<Figure size 432x288 with 1 Axes>"
            ],
            "image/png": "[encoded data removed]"
          },
          "metadata": {
            "needs_background": "light"
          }
        }
      ]
    },
    {
      "cell_type": "code",
      "source": [
        "g_sum = df.groupby('cluster')['size'].transform('sum')\n",
        "values = df['size']/g_sum\n",
        "df['Entropy'] = -(values*np.log(values))\n",
        "df1 = df.groupby('cluster',as_index=False,sort=False)['Entropy'].sum()\n",
        "df1"
      ],
      "metadata": {
        "colab": {
          "base_uri": "https://localhost:8080/",
          "height": 300
        },
        "id": "oWA6Q5jjBmCN",
        "outputId": "bb220a03-1cc9-4e0f-c55d-2794801d8038"
      },
      "execution_count": null,
      "outputs": [
        {
          "output_type": "execute_result",
          "data": {
            "text/plain": [
              "   cluster   Entropy\n",
              "0        0  0.243493\n",
              "1        1  0.564302\n",
              "2        2  1.022774\n",
              "3        3  0.405591\n",
              "4        4  1.201785\n",
              "5        5  0.862104\n",
              "6        6  0.000000\n",
              "7        7  0.234982"
            ],
            "text/html": [
              "\n",
              "  <div id=\"df-bbd6a76a-9ead-4ee9-b8ff-9ac4f910274b\">\n",
              "    <div class=\"colab-df-container\">\n",
              "      <div>\n",
              "<style scoped>\n",
              "    .dataframe tbody tr th:only-of-type {\n",
              "        vertical-align: middle;\n",
              "    }\n",
              "\n",
              "    .dataframe tbody tr th {\n",
              "        vertical-align: top;\n",
              "    }\n",
              "\n",
              "    .dataframe thead th {\n",
              "        text-align: right;\n",
              "    }\n",
              "</style>\n",
              "<table border=\"1\" class=\"dataframe\">\n",
              "  <thead>\n",
              "    <tr style=\"text-align: right;\">\n",
              "      <th></th>\n",
              "      <th>cluster</th>\n",
              "      <th>Entropy</th>\n",
              "    </tr>\n",
              "  </thead>\n",
              "  <tbody>\n",
              "    <tr>\n",
              "      <th>0</th>\n",
              "      <td>0</td>\n",
              "      <td>0.243493</td>\n",
              "    </tr>\n",
              "    <tr>\n",
              "      <th>1</th>\n",
              "      <td>1</td>\n",
              "      <td>0.564302</td>\n",
              "    </tr>\n",
              "    <tr>\n",
              "      <th>2</th>\n",
              "      <td>2</td>\n",
              "      <td>1.022774</td>\n",
              "    </tr>\n",
              "    <tr>\n",
              "      <th>3</th>\n",
              "      <td>3</td>\n",
              "      <td>0.405591</td>\n",
              "    </tr>\n",
              "    <tr>\n",
              "      <th>4</th>\n",
              "      <td>4</td>\n",
              "      <td>1.201785</td>\n",
              "    </tr>\n",
              "    <tr>\n",
              "      <th>5</th>\n",
              "      <td>5</td>\n",
              "      <td>0.862104</td>\n",
              "    </tr>\n",
              "    <tr>\n",
              "      <th>6</th>\n",
              "      <td>6</td>\n",
              "      <td>0.000000</td>\n",
              "    </tr>\n",
              "    <tr>\n",
              "      <th>7</th>\n",
              "      <td>7</td>\n",
              "      <td>0.234982</td>\n",
              "    </tr>\n",
              "  </tbody>\n",
              "</table>\n",
              "</div>\n",
              "      <button class=\"colab-df-convert\" onclick=\"convertToInteractive('df-bbd6a76a-9ead-4ee9-b8ff-9ac4f910274b')\"\n",
              "              title=\"Convert this dataframe to an interactive table.\"\n",
              "              style=\"display:none;\">\n",
              "        \n",
              "  <svg xmlns=\"http://www.w3.org/2000/svg\" height=\"24px\"viewBox=\"0 0 24 24\"\n",
              "       width=\"24px\">\n",
              "    <path d=\"M0 0h24v24H0V0z\" fill=\"none\"/>\n",
              "    <path d=\"M18.56 5.44l.94 2.06.94-2.06 2.06-.94-2.06-.94-.94-2.06-.94 2.06-2.06.94zm-11 1L8.5 8.5l.94-2.06 2.06-.94-2.06-.94L8.5 2.5l-.94 2.06-2.06.94zm10 10l.94 2.06.94-2.06 2.06-.94-2.06-.94-.94-2.06-.94 2.06-2.06.94z\"/><path d=\"M17.41 7.96l-1.37-1.37c-.4-.4-.92-.59-1.43-.59-.52 0-1.04.2-1.43.59L10.3 9.45l-7.72 7.72c-.78.78-.78 2.05 0 2.83L4 21.41c.39.39.9.59 1.41.59.51 0 1.02-.2 1.41-.59l7.78-7.78 2.81-2.81c.8-.78.8-2.07 0-2.86zM5.41 20L4 18.59l7.72-7.72 1.47 1.35L5.41 20z\"/>\n",
              "  </svg>\n",
              "      </button>\n",
              "      \n",
              "  <style>\n",
              "    .colab-df-container {\n",
              "      display:flex;\n",
              "      flex-wrap:wrap;\n",
              "      gap: 12px;\n",
              "    }\n",
              "\n",
              "    .colab-df-convert {\n",
              "      background-color: #E8F0FE;\n",
              "      border: none;\n",
              "      border-radius: 50%;\n",
              "      cursor: pointer;\n",
              "      display: none;\n",
              "      fill: #1967D2;\n",
              "      height: 32px;\n",
              "      padding: 0 0 0 0;\n",
              "      width: 32px;\n",
              "    }\n",
              "\n",
              "    .colab-df-convert:hover {\n",
              "      background-color: #E2EBFA;\n",
              "      box-shadow: 0px 1px 2px rgba(60, 64, 67, 0.3), 0px 1px 3px 1px rgba(60, 64, 67, 0.15);\n",
              "      fill: #174EA6;\n",
              "    }\n",
              "\n",
              "    [theme=dark] .colab-df-convert {\n",
              "      background-color: #3B4455;\n",
              "      fill: #D2E3FC;\n",
              "    }\n",
              "\n",
              "    [theme=dark] .colab-df-convert:hover {\n",
              "      background-color: #434B5C;\n",
              "      box-shadow: 0px 1px 3px 1px rgba(0, 0, 0, 0.15);\n",
              "      filter: drop-shadow(0px 1px 2px rgba(0, 0, 0, 0.3));\n",
              "      fill: #FFFFFF;\n",
              "    }\n",
              "  </style>\n",
              "\n",
              "      <script>\n",
              "        const buttonEl =\n",
              "          document.querySelector('#df-bbd6a76a-9ead-4ee9-b8ff-9ac4f910274b button.colab-df-convert');\n",
              "        buttonEl.style.display =\n",
              "          google.colab.kernel.accessAllowed ? 'block' : 'none';\n",
              "\n",
              "        async function convertToInteractive(key) {\n",
              "          const element = document.querySelector('#df-bbd6a76a-9ead-4ee9-b8ff-9ac4f910274b');\n",
              "          const dataTable =\n",
              "            await google.colab.kernel.invokeFunction('convertToInteractive',\n",
              "                                                     [key], {});\n",
              "          if (!dataTable) return;\n",
              "\n",
              "          const docLinkHtml = 'Like what you see? Visit the ' +\n",
              "            '<a target=\"_blank\" href=https://colab.research.google.com/notebooks/data_table.ipynb>data table notebook</a>'\n",
              "            + ' to learn more about interactive tables.';\n",
              "          element.innerHTML = '';\n",
              "          dataTable['output_type'] = 'display_data';\n",
              "          await google.colab.output.renderOutput(dataTable, element);\n",
              "          const docLink = document.createElement('div');\n",
              "          docLink.innerHTML = docLinkHtml;\n",
              "          element.appendChild(docLink);\n",
              "        }\n",
              "      </script>\n",
              "    </div>\n",
              "  </div>\n",
              "  "
            ]
          },
          "metadata": {},
          "execution_count": 23
        }
      ]
    },
    {
      "cell_type": "markdown",
      "source": [
        " <h2><a name=\"k\">Kmeans </a></h2>"
      ],
      "metadata": {
        "id": "ITSGCUHL7wrC"
      }
    },
    {
      "cell_type": "code",
      "source": [
        "from sklearn.cluster import KMeans\n",
        "from sklearn.metrics import silhouette_score\n",
        "SSE2={}\n",
        "for i in range(2,10):\n",
        "    cluster_try=KMeans(i)\n",
        "    cluster_try.fit_predict(pca_transformed.drop(columns=\"Label\"))\n",
        "    SSE2[i]=[cluster_try.inertia_,silhouette_score(pca_transformed.drop(columns=\"Label\"),cluster_try.labels_,metric='euclidean')]\n",
        "SSE2"
      ],
      "metadata": {
        "colab": {
          "base_uri": "https://localhost:8080/"
        },
        "id": "Q2XkIcjHlGkN",
        "outputId": "69bae16a-25cd-4413-c2a9-56cd1fc3085a"
      },
      "execution_count": null,
      "outputs": [
        {
          "output_type": "execute_result",
          "data": {
            "text/plain": [
              "{2: [1748055.7938082004, 0.5796796326963383],\n",
              " 3: [1367763.8111196777, 0.5774226748358297],\n",
              " 4: [1026825.0546514092, 0.6181382951398483],\n",
              " 5: [815137.7926031052, 0.596778624787913],\n",
              " 6: [606210.8010826783, 0.6285087243063859],\n",
              " 7: [455635.1275824264, 0.6885544348462832],\n",
              " 8: [376801.2598272167, 0.7077128911223389],\n",
              " 9: [327351.3683170025, 0.7156297921384179]}"
            ]
          },
          "metadata": {},
          "execution_count": 20
        }
      ]
    },
    {
      "cell_type": "code",
      "source": [
        "Eblow=[]\n",
        "Silhout=[]\n",
        "for key,value in SSE2.items():\n",
        "    Eblow.append(value[0])\n",
        "    Silhout.append(value[1])\n",
        "\n",
        "plt.figure(figsize=(10,10))\n",
        "plt.subplot(2,1,1)\n",
        "\n",
        "plt.plot(list(SSE2.keys()),Eblow,marker='o',color='red')\n",
        "plt.title(\"Elbow Method\")\n",
        "plt.show()\n",
        "plt.figure(figsize=(10,10))\n",
        "plt.subplot(2,1,2)\n",
        "plt.plot(list(SSE2.keys()),Silhout,marker='.',color='blue')\n",
        "plt.title(\" silhouette method\")\n",
        "plt.show()"
      ],
      "metadata": {
        "colab": {
          "base_uri": "https://localhost:8080/",
          "height": 605
        },
        "id": "zRuiMETs8bmk",
        "outputId": "d81f0404-8729-4a1e-9121-7d9480293ee6"
      },
      "execution_count": null,
      "outputs": [
        {
          "output_type": "display_data",
          "data": {
            "text/plain": [
              "<Figure size 720x720 with 1 Axes>"
            ],
            "image/png": "[encoded data removed]"
          },
          "metadata": {
            "needs_background": "light"
          }
        },
        {
          "output_type": "display_data",
          "data": {
            "text/plain": [
              "<Figure size 720x720 with 1 Axes>"
            ],
            "image/png": "[encoded data removed]"
          },
          "metadata": {
            "needs_background": "light"
          }
        }
      ]
    },
    {
      "cell_type": "code",
      "source": [
        "\n",
        "print(for_clustering.shape)\n",
        "print(transformed_train_numeric_for_clustering.shape)"
      ],
      "metadata": {
        "colab": {
          "base_uri": "https://localhost:8080/"
        },
        "id": "KwtCoxY66jvB",
        "outputId": "402c8c67-0920-4691-d58f-7fa442ef1760"
      },
      "execution_count": null,
      "outputs": [
        {
          "output_type": "stream",
          "name": "stdout",
          "text": [
            "(43921, 77)\n",
            "(43921, 76)\n"
          ]
        }
      ]
    },
    {
      "cell_type": "code",
      "source": [
        "from sklearn.cluster import KMeans\n",
        "from sklearn.metrics import silhouette_score\n",
        "SSE={}\n",
        "for i in range(2,10):\n",
        "    cluster_try=KMeans(i)\n",
        "    cluster_try.fit_predict(transformed_train_numeric_for_clustering)\n",
        "    SSE[i]=[cluster_try.inertia_,silhouette_score(transformed_train_numeric_for_clustering,cluster_try.labels_,metric='euclidean')]\n",
        "SSE"
      ],
      "metadata": {
        "colab": {
          "base_uri": "https://localhost:8080/"
        },
        "id": "hLHrVvc9qq8O",
        "outputId": "f28c3e47-1f36-4651-b100-3b49aac8132e"
      },
      "execution_count": null,
      "outputs": [
        {
          "output_type": "execute_result",
          "data": {
            "text/plain": [
              "{2: [1927275.9141480625, 0.5611959676990174],\n",
              " 3: [1546721.5291349916, 0.5559848302385823],\n",
              " 4: [1205296.9210351862, 0.5944574020206581],\n",
              " 5: [993536.794943652, 0.5455305123890198],\n",
              " 6: [784314.6957235438, 0.57592681733346],\n",
              " 7: [633543.2642420111, 0.62999202097885],\n",
              " 8: [554111.262255929, 0.6490250466343235],\n",
              " 9: [498789.00616872136, 0.6519491434406838]}"
            ]
          },
          "metadata": {},
          "execution_count": 23
        }
      ]
    },
    {
      "cell_type": "code",
      "source": [
        "Eblow=[]\n",
        "Silhout=[]\n",
        "for key,value in SSE.items():\n",
        "    Eblow.append(value[0])\n",
        "    Silhout.append(value[1])\n",
        "\n",
        "plt.figure(figsize=(10,10))\n",
        "plt.subplot(2,1,1)\n",
        "\n",
        "plt.plot(list(SSE.keys()),Eblow,marker='o',color='red')\n",
        "plt.title(\"Elbow Method\")\n",
        "plt.show()\n",
        "plt.figure(figsize=(10,10))\n",
        "plt.subplot(2,1,2)\n",
        "plt.plot(list(SSE.keys()),Silhout,marker='.',color='blue')\n",
        "plt.title(\" silhouette method\")\n",
        "plt.show()"
      ],
      "metadata": {
        "colab": {
          "base_uri": "https://localhost:8080/",
          "height": 605
        },
        "id": "Kko1e_uf45CM",
        "outputId": "275d7a53-2ad1-45a5-c72f-b0b60ebbfe04"
      },
      "execution_count": null,
      "outputs": [
        {
          "output_type": "display_data",
          "data": {
            "text/plain": [
              "<Figure size 720x720 with 1 Axes>"
            ],
            "image/png": "[encoded data removed]"
          },
          "metadata": {
            "needs_background": "light"
          }
        },
        {
          "output_type": "display_data",
          "data": {
            "text/plain": [
              "<Figure size 720x720 with 1 Axes>"
            ],
            "image/png": "[encoded data removed]"
          },
          "metadata": {
            "needs_background": "light"
          }
        }
      ]
    },
    {
      "cell_type": "code",
      "source": [
        "\n",
        "np.array([value[0] for value in SSE2.values()])<=np.array([value[0] for value in SSE.values()])"
      ],
      "metadata": {
        "colab": {
          "base_uri": "https://localhost:8080/"
        },
        "id": "26eewXkEncFE",
        "outputId": "afba6713-586d-490e-c868-90cea8dd6e46"
      },
      "execution_count": null,
      "outputs": [
        {
          "output_type": "execute_result",
          "data": {
            "text/plain": [
              "array([ True,  True,  True,  True,  True,  True,  True,  True])"
            ]
          },
          "metadata": {},
          "execution_count": 252
        }
      ]
    },
    {
      "cell_type": "markdown",
      "source": [
        "From this analysis we found out that K-means also performs well on PCA data rather than on data with all features"
      ],
      "metadata": {
        "id": "dZ-8QfJ14vSG"
      }
    },
    {
      "cell_type": "code",
      "source": [
        "#KNN with 3 k\n",
        "cluster_try=KMeans(8)\n",
        "pca_transformed['cluster'] = cluster_try.fit_predict(pca_transformed.drop(columns=\"Label\"))\n",
        "pca_transformed['Label'] = for_clustering[\"Label\"]\n"
      ],
      "metadata": {
        "id": "qDC9M1B-5VA3"
      },
      "execution_count": null,
      "outputs": []
    },
    {
      "cell_type": "code",
      "source": [
        "pd.crosstab(pca_transformed.cluster, pca_transformed.Label, margins=True, margins_name=\"Total\")"
      ],
      "metadata": {
        "colab": {
          "base_uri": "https://localhost:8080/",
          "height": 363
        },
        "id": "vWbPRXp_5Qy2",
        "outputId": "f2390051-6792-48af-c058-b28de27aaae7"
      },
      "execution_count": null,
      "outputs": [
        {
          "output_type": "execute_result",
          "data": {
            "text/plain": [
              "Label     Bot  DDOS attack-HOIC  DDoS attacks-LOIC-HTTP  \\\n",
              "cluster                                                   \n",
              "0           6                 0                       0   \n",
              "1        1405              1617                       0   \n",
              "2        1402             10042                    1028   \n",
              "3           0                 0                       0   \n",
              "4           1                 0                    1913   \n",
              "5           0                 1                    2822   \n",
              "6           0                 0                       0   \n",
              "7           0                 0                      11   \n",
              "Total    2814             11660                    5774   \n",
              "\n",
              "Label    DoS attacks-GoldenEye  DoS attacks-Hulk  DoS attacks-SlowHTTPTest  \\\n",
              "cluster                                                                      \n",
              "0                            0                 0                     10865   \n",
              "1                           52               132                         0   \n",
              "2                           73              4422                         0   \n",
              "3                            9                12                         0   \n",
              "4                           58                 1                         0   \n",
              "5                          205                87                         0   \n",
              "6                            0                 2                         0   \n",
              "7                            0                 0                         0   \n",
              "Total                      397              4656                     10865   \n",
              "\n",
              "Label    FTP-BruteForce  Infilteration  SSH-Bruteforce  Total  \n",
              "cluster                                                        \n",
              "0                  1920            321             537  13649  \n",
              "1                     0             54               0   3260  \n",
              "2                     0           1466             410  18843  \n",
              "3                     0            416               0    437  \n",
              "4                     0             37               0   2010  \n",
              "5                     0            108               0   3223  \n",
              "6                     0            336             967   1305  \n",
              "7                     0           1183               0   1194  \n",
              "Total              1920           3921            1914  43921  "
            ],
            "text/html": [
              "\n",
              "  <div id=\"df-a8ce825d-d2a6-44f3-833c-9145fb75a98c\">\n",
              "    <div class=\"colab-df-container\">\n",
              "      <div>\n",
              "<style scoped>\n",
              "    .dataframe tbody tr th:only-of-type {\n",
              "        vertical-align: middle;\n",
              "    }\n",
              "\n",
              "    .dataframe tbody tr th {\n",
              "        vertical-align: top;\n",
              "    }\n",
              "\n",
              "    .dataframe thead th {\n",
              "        text-align: right;\n",
              "    }\n",
              "</style>\n",
              "<table border=\"1\" class=\"dataframe\">\n",
              "  <thead>\n",
              "    <tr style=\"text-align: right;\">\n",
              "      <th>Label</th>\n",
              "      <th>Bot</th>\n",
              "      <th>DDOS attack-HOIC</th>\n",
              "      <th>DDoS attacks-LOIC-HTTP</th>\n",
              "      <th>DoS attacks-GoldenEye</th>\n",
              "      <th>DoS attacks-Hulk</th>\n",
              "      <th>DoS attacks-SlowHTTPTest</th>\n",
              "      <th>FTP-BruteForce</th>\n",
              "      <th>Infilteration</th>\n",
              "      <th>SSH-Bruteforce</th>\n",
              "      <th>Total</th>\n",
              "    </tr>\n",
              "    <tr>\n",
              "      <th>cluster</th>\n",
              "      <th></th>\n",
              "      <th></th>\n",
              "      <th></th>\n",
              "      <th></th>\n",
              "      <th></th>\n",
              "      <th></th>\n",
              "      <th></th>\n",
              "      <th></th>\n",
              "      <th></th>\n",
              "      <th></th>\n",
              "    </tr>\n",
              "  </thead>\n",
              "  <tbody>\n",
              "    <tr>\n",
              "      <th>0</th>\n",
              "      <td>6</td>\n",
              "      <td>0</td>\n",
              "      <td>0</td>\n",
              "      <td>0</td>\n",
              "      <td>0</td>\n",
              "      <td>10865</td>\n",
              "      <td>1920</td>\n",
              "      <td>321</td>\n",
              "      <td>537</td>\n",
              "      <td>13649</td>\n",
              "    </tr>\n",
              "    <tr>\n",
              "      <th>1</th>\n",
              "      <td>1405</td>\n",
              "      <td>1617</td>\n",
              "      <td>0</td>\n",
              "      <td>52</td>\n",
              "      <td>132</td>\n",
              "      <td>0</td>\n",
              "      <td>0</td>\n",
              "      <td>54</td>\n",
              "      <td>0</td>\n",
              "      <td>3260</td>\n",
              "    </tr>\n",
              "    <tr>\n",
              "      <th>2</th>\n",
              "      <td>1402</td>\n",
              "      <td>10042</td>\n",
              "      <td>1028</td>\n",
              "      <td>73</td>\n",
              "      <td>4422</td>\n",
              "      <td>0</td>\n",
              "      <td>0</td>\n",
              "      <td>1466</td>\n",
              "      <td>410</td>\n",
              "      <td>18843</td>\n",
              "    </tr>\n",
              "    <tr>\n",
              "      <th>3</th>\n",
              "      <td>0</td>\n",
              "      <td>0</td>\n",
              "      <td>0</td>\n",
              "      <td>9</td>\n",
              "      <td>12</td>\n",
              "      <td>0</td>\n",
              "      <td>0</td>\n",
              "      <td>416</td>\n",
              "      <td>0</td>\n",
              "      <td>437</td>\n",
              "    </tr>\n",
              "    <tr>\n",
              "      <th>4</th>\n",
              "      <td>1</td>\n",
              "      <td>0</td>\n",
              "      <td>1913</td>\n",
              "      <td>58</td>\n",
              "      <td>1</td>\n",
              "      <td>0</td>\n",
              "      <td>0</td>\n",
              "      <td>37</td>\n",
              "      <td>0</td>\n",
              "      <td>2010</td>\n",
              "    </tr>\n",
              "    <tr>\n",
              "      <th>5</th>\n",
              "      <td>0</td>\n",
              "      <td>1</td>\n",
              "      <td>2822</td>\n",
              "      <td>205</td>\n",
              "      <td>87</td>\n",
              "      <td>0</td>\n",
              "      <td>0</td>\n",
              "      <td>108</td>\n",
              "      <td>0</td>\n",
              "      <td>3223</td>\n",
              "    </tr>\n",
              "    <tr>\n",
              "      <th>6</th>\n",
              "      <td>0</td>\n",
              "      <td>0</td>\n",
              "      <td>0</td>\n",
              "      <td>0</td>\n",
              "      <td>2</td>\n",
              "      <td>0</td>\n",
              "      <td>0</td>\n",
              "      <td>336</td>\n",
              "      <td>967</td>\n",
              "      <td>1305</td>\n",
              "    </tr>\n",
              "    <tr>\n",
              "      <th>7</th>\n",
              "      <td>0</td>\n",
              "      <td>0</td>\n",
              "      <td>11</td>\n",
              "      <td>0</td>\n",
              "      <td>0</td>\n",
              "      <td>0</td>\n",
              "      <td>0</td>\n",
              "      <td>1183</td>\n",
              "      <td>0</td>\n",
              "      <td>1194</td>\n",
              "    </tr>\n",
              "    <tr>\n",
              "      <th>Total</th>\n",
              "      <td>2814</td>\n",
              "      <td>11660</td>\n",
              "      <td>5774</td>\n",
              "      <td>397</td>\n",
              "      <td>4656</td>\n",
              "      <td>10865</td>\n",
              "      <td>1920</td>\n",
              "      <td>3921</td>\n",
              "      <td>1914</td>\n",
              "      <td>43921</td>\n",
              "    </tr>\n",
              "  </tbody>\n",
              "</table>\n",
              "</div>\n",
              "      <button class=\"colab-df-convert\" onclick=\"convertToInteractive('df-a8ce825d-d2a6-44f3-833c-9145fb75a98c')\"\n",
              "              title=\"Convert this dataframe to an interactive table.\"\n",
              "              style=\"display:none;\">\n",
              "        \n",
              "  <svg xmlns=\"http://www.w3.org/2000/svg\" height=\"24px\"viewBox=\"0 0 24 24\"\n",
              "       width=\"24px\">\n",
              "    <path d=\"M0 0h24v24H0V0z\" fill=\"none\"/>\n",
              "    <path d=\"M18.56 5.44l.94 2.06.94-2.06 2.06-.94-2.06-.94-.94-2.06-.94 2.06-2.06.94zm-11 1L8.5 8.5l.94-2.06 2.06-.94-2.06-.94L8.5 2.5l-.94 2.06-2.06.94zm10 10l.94 2.06.94-2.06 2.06-.94-2.06-.94-.94-2.06-.94 2.06-2.06.94z\"/><path d=\"M17.41 7.96l-1.37-1.37c-.4-.4-.92-.59-1.43-.59-.52 0-1.04.2-1.43.59L10.3 9.45l-7.72 7.72c-.78.78-.78 2.05 0 2.83L4 21.41c.39.39.9.59 1.41.59.51 0 1.02-.2 1.41-.59l7.78-7.78 2.81-2.81c.8-.78.8-2.07 0-2.86zM5.41 20L4 18.59l7.72-7.72 1.47 1.35L5.41 20z\"/>\n",
              "  </svg>\n",
              "      </button>\n",
              "      \n",
              "  <style>\n",
              "    .colab-df-container {\n",
              "      display:flex;\n",
              "      flex-wrap:wrap;\n",
              "      gap: 12px;\n",
              "    }\n",
              "\n",
              "    .colab-df-convert {\n",
              "      background-color: #E8F0FE;\n",
              "      border: none;\n",
              "      border-radius: 50%;\n",
              "      cursor: pointer;\n",
              "      display: none;\n",
              "      fill: #1967D2;\n",
              "      height: 32px;\n",
              "      padding: 0 0 0 0;\n",
              "      width: 32px;\n",
              "    }\n",
              "\n",
              "    .colab-df-convert:hover {\n",
              "      background-color: #E2EBFA;\n",
              "      box-shadow: 0px 1px 2px rgba(60, 64, 67, 0.3), 0px 1px 3px 1px rgba(60, 64, 67, 0.15);\n",
              "      fill: #174EA6;\n",
              "    }\n",
              "\n",
              "    [theme=dark] .colab-df-convert {\n",
              "      background-color: #3B4455;\n",
              "      fill: #D2E3FC;\n",
              "    }\n",
              "\n",
              "    [theme=dark] .colab-df-convert:hover {\n",
              "      background-color: #434B5C;\n",
              "      box-shadow: 0px 1px 3px 1px rgba(0, 0, 0, 0.15);\n",
              "      filter: drop-shadow(0px 1px 2px rgba(0, 0, 0, 0.3));\n",
              "      fill: #FFFFFF;\n",
              "    }\n",
              "  </style>\n",
              "\n",
              "      <script>\n",
              "        const buttonEl =\n",
              "          document.querySelector('#df-a8ce825d-d2a6-44f3-833c-9145fb75a98c button.colab-df-convert');\n",
              "        buttonEl.style.display =\n",
              "          google.colab.kernel.accessAllowed ? 'block' : 'none';\n",
              "\n",
              "        async function convertToInteractive(key) {\n",
              "          const element = document.querySelector('#df-a8ce825d-d2a6-44f3-833c-9145fb75a98c');\n",
              "          const dataTable =\n",
              "            await google.colab.kernel.invokeFunction('convertToInteractive',\n",
              "                                                     [key], {});\n",
              "          if (!dataTable) return;\n",
              "\n",
              "          const docLinkHtml = 'Like what you see? Visit the ' +\n",
              "            '<a target=\"_blank\" href=https://colab.research.google.com/notebooks/data_table.ipynb>data table notebook</a>'\n",
              "            + ' to learn more about interactive tables.';\n",
              "          element.innerHTML = '';\n",
              "          dataTable['output_type'] = 'display_data';\n",
              "          await google.colab.output.renderOutput(dataTable, element);\n",
              "          const docLink = document.createElement('div');\n",
              "          docLink.innerHTML = docLinkHtml;\n",
              "          element.appendChild(docLink);\n",
              "        }\n",
              "      </script>\n",
              "    </div>\n",
              "  </div>\n",
              "  "
            ]
          },
          "metadata": {},
          "execution_count": 59
        }
      ]
    },
    {
      "cell_type": "markdown",
      "source": [
        "The results are pretty much the same with Agglomerative Clustering so its reasonable to merge those clusters.<br>\n",
        "Merging DDOS attack-HOIC, Hulk, DoS attacks || SlowHTTPTEST, FTP-BruteForce -Agloremative<br>\n",
        "Merging DDOS attack-HOIC, Hulk, DoS attacks || SlowHTTPTEST, FTP-BruteForce - K_Means"
      ],
      "metadata": {
        "id": "Kg-w7It_9fI5"
      }
    },
    {
      "cell_type": "markdown",
      "source": [
        " <h2><a name=\"d\">DBSCAN </a></h2>"
      ],
      "metadata": {
        "id": "foSjPhkwAZzG"
      }
    },
    {
      "cell_type": "code",
      "source": [
        "from sklearn.neighbors import NearestNeighbors\n",
        "from sklearn.cluster import DBSCAN"
      ],
      "metadata": {
        "id": "TvaWVCdd9xvw"
      },
      "execution_count": null,
      "outputs": []
    },
    {
      "cell_type": "code",
      "source": [
        "data_dbscan = transformed_train_numeric_for_clustering.drop(columns=[\"Label\",\"cluster\"])\n",
        "neigh = NearestNeighbors(n_neighbors=2)\n",
        "nbrs = neigh.fit(data_dbscan)\n",
        "distance, indices = nbrs.kneighbors(data_dbscan)"
      ],
      "metadata": {
        "id": "8l2KX3vNDtGD"
      },
      "execution_count": null,
      "outputs": []
    },
    {
      "cell_type": "code",
      "source": [
        "distances = np.sort(distance, axis=0)\n",
        "distances[:,1]"
      ],
      "metadata": {
        "colab": {
          "base_uri": "https://localhost:8080/"
        },
        "id": "HH0C5CW5Gg8I",
        "outputId": "9b3f5a69-f32f-46bc-a225-c58c27c4840c"
      },
      "execution_count": null,
      "outputs": [
        {
          "output_type": "execute_result",
          "data": {
            "text/plain": [
              "array([ 0.        ,  0.        ,  0.        , ..., 15.27767858,\n",
              "       16.18882075, 18.32076608])"
            ]
          },
          "metadata": {},
          "execution_count": 61
        }
      ]
    },
    {
      "cell_type": "code",
      "source": [
        "distances = np.sort(distance, axis=0)\n",
        "distances = distances[:,1]\n",
        "plt.plot(distances)\n",
        "plt.ylim((0, 0.3)) \n",
        "plt.show()"
      ],
      "metadata": {
        "colab": {
          "base_uri": "https://localhost:8080/",
          "height": 269
        },
        "id": "sgKoWOyxD88j",
        "outputId": "0edb4346-3326-4753-8459-84a417a2c12c"
      },
      "execution_count": null,
      "outputs": [
        {
          "output_type": "display_data",
          "data": {
            "text/plain": [
              "<Figure size 432x288 with 1 Axes>"
            ],
            "image/png": "[encoded data removed]"
          },
          "metadata": {
            "needs_background": "light"
          }
        }
      ]
    },
    {
      "cell_type": "code",
      "source": [
        "dbscan = DBSCAN(eps=0.05, min_samples=5)\n",
        "dbscan.fit(transformed_train_numeric_for_clustering.drop(columns=\"Label\"))"
      ],
      "metadata": {
        "colab": {
          "base_uri": "https://localhost:8080/"
        },
        "id": "Sjxmw1K8hRmQ",
        "outputId": "de0eeeb2-d8be-4ed9-abc0-7af733f38774"
      },
      "execution_count": null,
      "outputs": [
        {
          "output_type": "execute_result",
          "data": {
            "text/plain": [
              "DBSCAN(eps=0.05)"
            ]
          },
          "metadata": {},
          "execution_count": 63
        }
      ]
    },
    {
      "cell_type": "code",
      "source": [
        "len(np.unique(dbscan.labels_))"
      ],
      "metadata": {
        "colab": {
          "base_uri": "https://localhost:8080/"
        },
        "id": "MobdmG5cjIQy",
        "outputId": "fbf3a732-ee1e-448b-e5ce-b4d797c2b9be"
      },
      "execution_count": null,
      "outputs": [
        {
          "output_type": "execute_result",
          "data": {
            "text/plain": [
              "179"
            ]
          },
          "metadata": {},
          "execution_count": 64
        }
      ]
    },
    {
      "cell_type": "code",
      "source": [
        "clusters = dbscan.fit_predict(data_dbscan)\n",
        "np.unique(clusters)"
      ],
      "metadata": {
        "colab": {
          "base_uri": "https://localhost:8080/"
        },
        "id": "ZxNPYzWTvBlQ",
        "outputId": "deeead28-7882-49c7-e4eb-fb5972064314"
      },
      "execution_count": null,
      "outputs": [
        {
          "output_type": "execute_result",
          "data": {
            "text/plain": [
              "array([ -1,   0,   1,   2,   3,   4,   5,   6,   7,   8,   9,  10,  11,\n",
              "        12,  13,  14,  15,  16,  17,  18,  19,  20,  21,  22,  23,  24,\n",
              "        25,  26,  27,  28,  29,  30,  31,  32,  33,  34,  35,  36,  37,\n",
              "        38,  39,  40,  41,  42,  43,  44,  45,  46,  47,  48,  49,  50,\n",
              "        51,  52,  53,  54,  55,  56,  57,  58,  59,  60,  61,  62,  63,\n",
              "        64,  65,  66,  67,  68,  69,  70,  71,  72,  73,  74,  75,  76,\n",
              "        77,  78,  79,  80,  81,  82,  83,  84,  85,  86,  87,  88,  89,\n",
              "        90,  91,  92,  93,  94,  95,  96,  97,  98,  99, 100, 101, 102,\n",
              "       103, 104, 105, 106, 107, 108, 109, 110, 111, 112, 113, 114, 115,\n",
              "       116, 117, 118, 119, 120, 121, 122, 123, 124, 125, 126, 127, 128,\n",
              "       129, 130, 131, 132, 133, 134, 135, 136, 137, 138, 139, 140, 141,\n",
              "       142, 143, 144, 145, 146, 147, 148, 149, 150, 151, 152, 153, 154,\n",
              "       155, 156, 157, 158, 159, 160, 161, 162, 163, 164, 165, 166, 167])"
            ]
          },
          "metadata": {},
          "execution_count": 265
        }
      ]
    },
    {
      "cell_type": "code",
      "source": [
        "pd.value_counts(clusters)"
      ],
      "metadata": {
        "colab": {
          "base_uri": "https://localhost:8080/"
        },
        "id": "5tJ94hRgvPRa",
        "outputId": "5983f5bf-01b6-4441-f8f5-82e7c221ab14"
      },
      "execution_count": null,
      "outputs": [
        {
          "output_type": "execute_result",
          "data": {
            "text/plain": [
              " 7      10217\n",
              " 105    10030\n",
              "-1       3838\n",
              " 5       3771\n",
              " 22      2834\n",
              "        ...  \n",
              " 73         5\n",
              " 167        5\n",
              " 159        4\n",
              " 139        4\n",
              " 163        3\n",
              "Length: 169, dtype: int64"
            ]
          },
          "metadata": {},
          "execution_count": 266
        }
      ]
    },
    {
      "cell_type": "code",
      "source": [
        "indices = np.argwhere((clusters==7)|(clusters==105)|(clusters==5)|(clusters==22)|(clusters==-1))\n",
        "data_dbscan['clusters'] = clusters\n",
        "indices = np.squeeze(indices)"
      ],
      "metadata": {
        "id": "_SBhiVduOvnP"
      },
      "execution_count": null,
      "outputs": []
    },
    {
      "cell_type": "code",
      "source": [
        "data_dbscan2 = data_dbscan.iloc[indices,:]\n",
        "data_dbscan2[\"Label\"] = transformed_train_numeric_for_clustering.loc[indices,\"Label\"]"
      ],
      "metadata": {
        "id": "-q7rjSPGQLGv"
      },
      "execution_count": null,
      "outputs": []
    },
    {
      "cell_type": "code",
      "source": [
        "transformed_train_numeric_for_clustering[\"Label\"].value_counts()"
      ],
      "metadata": {
        "colab": {
          "base_uri": "https://localhost:8080/"
        },
        "id": "_OdBAbYnR063",
        "outputId": "3a817905-e7b8-4286-eaad-7af1f3b00991"
      },
      "execution_count": null,
      "outputs": [
        {
          "output_type": "execute_result",
          "data": {
            "text/plain": [
              "DDOS attack-HOIC            11629\n",
              "DoS attacks-SlowHTTPTest    10855\n",
              "DDoS attacks-LOIC-HTTP       5742\n",
              "DoS attacks-Hulk             4638\n",
              "Infilteration                3900\n",
              "Bot                          2808\n",
              "FTP-BruteForce               1916\n",
              "SSH-Bruteforce               1891\n",
              "DoS attacks-GoldenEye         419\n",
              "Name: Label, dtype: int64"
            ]
          },
          "metadata": {},
          "execution_count": 154
        }
      ]
    },
    {
      "cell_type": "code",
      "source": [
        "round((pd.crosstab(data_dbscan2.clusters, data_dbscan2.Label, margins=True, margins_name=\"Total\")))"
      ],
      "metadata": {
        "colab": {
          "base_uri": "https://localhost:8080/",
          "height": 330
        },
        "id": "C8XhmLQDRsNm",
        "outputId": "6cb1a303-a5d8-47c3-c26c-0a8802034c10"
      },
      "execution_count": null,
      "outputs": [
        {
          "output_type": "execute_result",
          "data": {
            "text/plain": [
              "Label     Bot  DDOS attack-HOIC  DDoS attacks-LOIC-HTTP  \\\n",
              "clusters                                                  \n",
              "-1         44               577                     215   \n",
              "5           0                 0                       0   \n",
              "7           0                 0                       0   \n",
              "22          0                 0                    2834   \n",
              "105         0             10030                       0   \n",
              "Total      44             10607                    3049   \n",
              "\n",
              "Label     DoS attacks-GoldenEye  DoS attacks-Hulk  DoS attacks-SlowHTTPTest  \\\n",
              "clusters                                                                      \n",
              "-1                          319               268                         0   \n",
              "5                             0              3771                         0   \n",
              "7                             0                 0                      8587   \n",
              "22                            0                 0                         0   \n",
              "105                           0                 0                         0   \n",
              "Total                       319              4039                      8587   \n",
              "\n",
              "Label     FTP-BruteForce  Infilteration  SSH-Bruteforce  Total  \n",
              "clusters                                                        \n",
              "-1                     0           2376              39   3838  \n",
              "5                      0              0               0   3771  \n",
              "7                   1627              0               3  10217  \n",
              "22                     0              0               0   2834  \n",
              "105                    0              0               0  10030  \n",
              "Total               1627           2376              42  30690  "
            ],
            "text/html": [
              "\n",
              "  <div id=\"df-c367b107-53ab-44a9-9c05-e28ff88459dc\">\n",
              "    <div class=\"colab-df-container\">\n",
              "      <div>\n",
              "<style scoped>\n",
              "    .dataframe tbody tr th:only-of-type {\n",
              "        vertical-align: middle;\n",
              "    }\n",
              "\n",
              "    .dataframe tbody tr th {\n",
              "        vertical-align: top;\n",
              "    }\n",
              "\n",
              "    .dataframe thead th {\n",
              "        text-align: right;\n",
              "    }\n",
              "</style>\n",
              "<table border=\"1\" class=\"dataframe\">\n",
              "  <thead>\n",
              "    <tr style=\"text-align: right;\">\n",
              "      <th>Label</th>\n",
              "      <th>Bot</th>\n",
              "      <th>DDOS attack-HOIC</th>\n",
              "      <th>DDoS attacks-LOIC-HTTP</th>\n",
              "      <th>DoS attacks-GoldenEye</th>\n",
              "      <th>DoS attacks-Hulk</th>\n",
              "      <th>DoS attacks-SlowHTTPTest</th>\n",
              "      <th>FTP-BruteForce</th>\n",
              "      <th>Infilteration</th>\n",
              "      <th>SSH-Bruteforce</th>\n",
              "      <th>Total</th>\n",
              "    </tr>\n",
              "    <tr>\n",
              "      <th>clusters</th>\n",
              "      <th></th>\n",
              "      <th></th>\n",
              "      <th></th>\n",
              "      <th></th>\n",
              "      <th></th>\n",
              "      <th></th>\n",
              "      <th></th>\n",
              "      <th></th>\n",
              "      <th></th>\n",
              "      <th></th>\n",
              "    </tr>\n",
              "  </thead>\n",
              "  <tbody>\n",
              "    <tr>\n",
              "      <th>-1</th>\n",
              "      <td>44</td>\n",
              "      <td>577</td>\n",
              "      <td>215</td>\n",
              "      <td>319</td>\n",
              "      <td>268</td>\n",
              "      <td>0</td>\n",
              "      <td>0</td>\n",
              "      <td>2376</td>\n",
              "      <td>39</td>\n",
              "      <td>3838</td>\n",
              "    </tr>\n",
              "    <tr>\n",
              "      <th>5</th>\n",
              "      <td>0</td>\n",
              "      <td>0</td>\n",
              "      <td>0</td>\n",
              "      <td>0</td>\n",
              "      <td>3771</td>\n",
              "      <td>0</td>\n",
              "      <td>0</td>\n",
              "      <td>0</td>\n",
              "      <td>0</td>\n",
              "      <td>3771</td>\n",
              "    </tr>\n",
              "    <tr>\n",
              "      <th>7</th>\n",
              "      <td>0</td>\n",
              "      <td>0</td>\n",
              "      <td>0</td>\n",
              "      <td>0</td>\n",
              "      <td>0</td>\n",
              "      <td>8587</td>\n",
              "      <td>1627</td>\n",
              "      <td>0</td>\n",
              "      <td>3</td>\n",
              "      <td>10217</td>\n",
              "    </tr>\n",
              "    <tr>\n",
              "      <th>22</th>\n",
              "      <td>0</td>\n",
              "      <td>0</td>\n",
              "      <td>2834</td>\n",
              "      <td>0</td>\n",
              "      <td>0</td>\n",
              "      <td>0</td>\n",
              "      <td>0</td>\n",
              "      <td>0</td>\n",
              "      <td>0</td>\n",
              "      <td>2834</td>\n",
              "    </tr>\n",
              "    <tr>\n",
              "      <th>105</th>\n",
              "      <td>0</td>\n",
              "      <td>10030</td>\n",
              "      <td>0</td>\n",
              "      <td>0</td>\n",
              "      <td>0</td>\n",
              "      <td>0</td>\n",
              "      <td>0</td>\n",
              "      <td>0</td>\n",
              "      <td>0</td>\n",
              "      <td>10030</td>\n",
              "    </tr>\n",
              "    <tr>\n",
              "      <th>Total</th>\n",
              "      <td>44</td>\n",
              "      <td>10607</td>\n",
              "      <td>3049</td>\n",
              "      <td>319</td>\n",
              "      <td>4039</td>\n",
              "      <td>8587</td>\n",
              "      <td>1627</td>\n",
              "      <td>2376</td>\n",
              "      <td>42</td>\n",
              "      <td>30690</td>\n",
              "    </tr>\n",
              "  </tbody>\n",
              "</table>\n",
              "</div>\n",
              "      <button class=\"colab-df-convert\" onclick=\"convertToInteractive('df-c367b107-53ab-44a9-9c05-e28ff88459dc')\"\n",
              "              title=\"Convert this dataframe to an interactive table.\"\n",
              "              style=\"display:none;\">\n",
              "        \n",
              "  <svg xmlns=\"http://www.w3.org/2000/svg\" height=\"24px\"viewBox=\"0 0 24 24\"\n",
              "       width=\"24px\">\n",
              "    <path d=\"M0 0h24v24H0V0z\" fill=\"none\"/>\n",
              "    <path d=\"M18.56 5.44l.94 2.06.94-2.06 2.06-.94-2.06-.94-.94-2.06-.94 2.06-2.06.94zm-11 1L8.5 8.5l.94-2.06 2.06-.94-2.06-.94L8.5 2.5l-.94 2.06-2.06.94zm10 10l.94 2.06.94-2.06 2.06-.94-2.06-.94-.94-2.06-.94 2.06-2.06.94z\"/><path d=\"M17.41 7.96l-1.37-1.37c-.4-.4-.92-.59-1.43-.59-.52 0-1.04.2-1.43.59L10.3 9.45l-7.72 7.72c-.78.78-.78 2.05 0 2.83L4 21.41c.39.39.9.59 1.41.59.51 0 1.02-.2 1.41-.59l7.78-7.78 2.81-2.81c.8-.78.8-2.07 0-2.86zM5.41 20L4 18.59l7.72-7.72 1.47 1.35L5.41 20z\"/>\n",
              "  </svg>\n",
              "      </button>\n",
              "      \n",
              "  <style>\n",
              "    .colab-df-container {\n",
              "      display:flex;\n",
              "      flex-wrap:wrap;\n",
              "      gap: 12px;\n",
              "    }\n",
              "\n",
              "    .colab-df-convert {\n",
              "      background-color: #E8F0FE;\n",
              "      border: none;\n",
              "      border-radius: 50%;\n",
              "      cursor: pointer;\n",
              "      display: none;\n",
              "      fill: #1967D2;\n",
              "      height: 32px;\n",
              "      padding: 0 0 0 0;\n",
              "      width: 32px;\n",
              "    }\n",
              "\n",
              "    .colab-df-convert:hover {\n",
              "      background-color: #E2EBFA;\n",
              "      box-shadow: 0px 1px 2px rgba(60, 64, 67, 0.3), 0px 1px 3px 1px rgba(60, 64, 67, 0.15);\n",
              "      fill: #174EA6;\n",
              "    }\n",
              "\n",
              "    [theme=dark] .colab-df-convert {\n",
              "      background-color: #3B4455;\n",
              "      fill: #D2E3FC;\n",
              "    }\n",
              "\n",
              "    [theme=dark] .colab-df-convert:hover {\n",
              "      background-color: #434B5C;\n",
              "      box-shadow: 0px 1px 3px 1px rgba(0, 0, 0, 0.15);\n",
              "      filter: drop-shadow(0px 1px 2px rgba(0, 0, 0, 0.3));\n",
              "      fill: #FFFFFF;\n",
              "    }\n",
              "  </style>\n",
              "\n",
              "      <script>\n",
              "        const buttonEl =\n",
              "          document.querySelector('#df-c367b107-53ab-44a9-9c05-e28ff88459dc button.colab-df-convert');\n",
              "        buttonEl.style.display =\n",
              "          google.colab.kernel.accessAllowed ? 'block' : 'none';\n",
              "\n",
              "        async function convertToInteractive(key) {\n",
              "          const element = document.querySelector('#df-c367b107-53ab-44a9-9c05-e28ff88459dc');\n",
              "          const dataTable =\n",
              "            await google.colab.kernel.invokeFunction('convertToInteractive',\n",
              "                                                     [key], {});\n",
              "          if (!dataTable) return;\n",
              "\n",
              "          const docLinkHtml = 'Like what you see? Visit the ' +\n",
              "            '<a target=\"_blank\" href=https://colab.research.google.com/notebooks/data_table.ipynb>data table notebook</a>'\n",
              "            + ' to learn more about interactive tables.';\n",
              "          element.innerHTML = '';\n",
              "          dataTable['output_type'] = 'display_data';\n",
              "          await google.colab.output.renderOutput(dataTable, element);\n",
              "          const docLink = document.createElement('div');\n",
              "          docLink.innerHTML = docLinkHtml;\n",
              "          element.appendChild(docLink);\n",
              "        }\n",
              "      </script>\n",
              "    </div>\n",
              "  </div>\n",
              "  "
            ]
          },
          "metadata": {},
          "execution_count": 272
        }
      ]
    },
    {
      "cell_type": "code",
      "source": [
        "round((pd.crosstab(data_dbscan.clusters, data_dbscan.Label, margins=True, margins_name=\"Total\", normalize=\"columns\")*100),2).astype(str)+'%'"
      ],
      "metadata": {
        "colab": {
          "base_uri": "https://localhost:8080/",
          "height": 206
        },
        "id": "x3z5eU__QbJD",
        "outputId": "c582c1d2-61d3-47f2-d7fd-50ab64512e1b"
      },
      "execution_count": null,
      "outputs": [
        {
          "output_type": "execute_result",
          "data": {
            "text/plain": [
              "Label    DDOS attack-HOIC DDoS attacks-LOIC-HTTP DoS attacks-Hulk  \\\n",
              "clusters                                                            \n",
              "5                    0.0%                   0.0%           100.0%   \n",
              "7                    0.0%                   0.0%             0.0%   \n",
              "22                   0.0%                 100.0%             0.0%   \n",
              "105                100.0%                   0.0%             0.0%   \n",
              "\n",
              "Label    DoS attacks-SlowHTTPTest FTP-BruteForce SSH-Bruteforce   Total  \n",
              "clusters                                                                 \n",
              "5                            0.0%           0.0%           0.0%  14.04%  \n",
              "7                          100.0%         100.0%         100.0%  38.05%  \n",
              "22                           0.0%           0.0%           0.0%  10.55%  \n",
              "105                          0.0%           0.0%           0.0%  37.35%  "
            ],
            "text/html": [
              "\n",
              "  <div id=\"df-461aba13-da9a-4c72-92d3-6c1ad88706aa\">\n",
              "    <div class=\"colab-df-container\">\n",
              "      <div>\n",
              "<style scoped>\n",
              "    .dataframe tbody tr th:only-of-type {\n",
              "        vertical-align: middle;\n",
              "    }\n",
              "\n",
              "    .dataframe tbody tr th {\n",
              "        vertical-align: top;\n",
              "    }\n",
              "\n",
              "    .dataframe thead th {\n",
              "        text-align: right;\n",
              "    }\n",
              "</style>\n",
              "<table border=\"1\" class=\"dataframe\">\n",
              "  <thead>\n",
              "    <tr style=\"text-align: right;\">\n",
              "      <th>Label</th>\n",
              "      <th>DDOS attack-HOIC</th>\n",
              "      <th>DDoS attacks-LOIC-HTTP</th>\n",
              "      <th>DoS attacks-Hulk</th>\n",
              "      <th>DoS attacks-SlowHTTPTest</th>\n",
              "      <th>FTP-BruteForce</th>\n",
              "      <th>SSH-Bruteforce</th>\n",
              "      <th>Total</th>\n",
              "    </tr>\n",
              "    <tr>\n",
              "      <th>clusters</th>\n",
              "      <th></th>\n",
              "      <th></th>\n",
              "      <th></th>\n",
              "      <th></th>\n",
              "      <th></th>\n",
              "      <th></th>\n",
              "      <th></th>\n",
              "    </tr>\n",
              "  </thead>\n",
              "  <tbody>\n",
              "    <tr>\n",
              "      <th>5</th>\n",
              "      <td>0.0%</td>\n",
              "      <td>0.0%</td>\n",
              "      <td>100.0%</td>\n",
              "      <td>0.0%</td>\n",
              "      <td>0.0%</td>\n",
              "      <td>0.0%</td>\n",
              "      <td>14.04%</td>\n",
              "    </tr>\n",
              "    <tr>\n",
              "      <th>7</th>\n",
              "      <td>0.0%</td>\n",
              "      <td>0.0%</td>\n",
              "      <td>0.0%</td>\n",
              "      <td>100.0%</td>\n",
              "      <td>100.0%</td>\n",
              "      <td>100.0%</td>\n",
              "      <td>38.05%</td>\n",
              "    </tr>\n",
              "    <tr>\n",
              "      <th>22</th>\n",
              "      <td>0.0%</td>\n",
              "      <td>100.0%</td>\n",
              "      <td>0.0%</td>\n",
              "      <td>0.0%</td>\n",
              "      <td>0.0%</td>\n",
              "      <td>0.0%</td>\n",
              "      <td>10.55%</td>\n",
              "    </tr>\n",
              "    <tr>\n",
              "      <th>105</th>\n",
              "      <td>100.0%</td>\n",
              "      <td>0.0%</td>\n",
              "      <td>0.0%</td>\n",
              "      <td>0.0%</td>\n",
              "      <td>0.0%</td>\n",
              "      <td>0.0%</td>\n",
              "      <td>37.35%</td>\n",
              "    </tr>\n",
              "  </tbody>\n",
              "</table>\n",
              "</div>\n",
              "      <button class=\"colab-df-convert\" onclick=\"convertToInteractive('df-461aba13-da9a-4c72-92d3-6c1ad88706aa')\"\n",
              "              title=\"Convert this dataframe to an interactive table.\"\n",
              "              style=\"display:none;\">\n",
              "        \n",
              "  <svg xmlns=\"http://www.w3.org/2000/svg\" height=\"24px\"viewBox=\"0 0 24 24\"\n",
              "       width=\"24px\">\n",
              "    <path d=\"M0 0h24v24H0V0z\" fill=\"none\"/>\n",
              "    <path d=\"M18.56 5.44l.94 2.06.94-2.06 2.06-.94-2.06-.94-.94-2.06-.94 2.06-2.06.94zm-11 1L8.5 8.5l.94-2.06 2.06-.94-2.06-.94L8.5 2.5l-.94 2.06-2.06.94zm10 10l.94 2.06.94-2.06 2.06-.94-2.06-.94-.94-2.06-.94 2.06-2.06.94z\"/><path d=\"M17.41 7.96l-1.37-1.37c-.4-.4-.92-.59-1.43-.59-.52 0-1.04.2-1.43.59L10.3 9.45l-7.72 7.72c-.78.78-.78 2.05 0 2.83L4 21.41c.39.39.9.59 1.41.59.51 0 1.02-.2 1.41-.59l7.78-7.78 2.81-2.81c.8-.78.8-2.07 0-2.86zM5.41 20L4 18.59l7.72-7.72 1.47 1.35L5.41 20z\"/>\n",
              "  </svg>\n",
              "      </button>\n",
              "      \n",
              "  <style>\n",
              "    .colab-df-container {\n",
              "      display:flex;\n",
              "      flex-wrap:wrap;\n",
              "      gap: 12px;\n",
              "    }\n",
              "\n",
              "    .colab-df-convert {\n",
              "      background-color: #E8F0FE;\n",
              "      border: none;\n",
              "      border-radius: 50%;\n",
              "      cursor: pointer;\n",
              "      display: none;\n",
              "      fill: #1967D2;\n",
              "      height: 32px;\n",
              "      padding: 0 0 0 0;\n",
              "      width: 32px;\n",
              "    }\n",
              "\n",
              "    .colab-df-convert:hover {\n",
              "      background-color: #E2EBFA;\n",
              "      box-shadow: 0px 1px 2px rgba(60, 64, 67, 0.3), 0px 1px 3px 1px rgba(60, 64, 67, 0.15);\n",
              "      fill: #174EA6;\n",
              "    }\n",
              "\n",
              "    [theme=dark] .colab-df-convert {\n",
              "      background-color: #3B4455;\n",
              "      fill: #D2E3FC;\n",
              "    }\n",
              "\n",
              "    [theme=dark] .colab-df-convert:hover {\n",
              "      background-color: #434B5C;\n",
              "      box-shadow: 0px 1px 3px 1px rgba(0, 0, 0, 0.15);\n",
              "      filter: drop-shadow(0px 1px 2px rgba(0, 0, 0, 0.3));\n",
              "      fill: #FFFFFF;\n",
              "    }\n",
              "  </style>\n",
              "\n",
              "      <script>\n",
              "        const buttonEl =\n",
              "          document.querySelector('#df-461aba13-da9a-4c72-92d3-6c1ad88706aa button.colab-df-convert');\n",
              "        buttonEl.style.display =\n",
              "          google.colab.kernel.accessAllowed ? 'block' : 'none';\n",
              "\n",
              "        async function convertToInteractive(key) {\n",
              "          const element = document.querySelector('#df-461aba13-da9a-4c72-92d3-6c1ad88706aa');\n",
              "          const dataTable =\n",
              "            await google.colab.kernel.invokeFunction('convertToInteractive',\n",
              "                                                     [key], {});\n",
              "          if (!dataTable) return;\n",
              "\n",
              "          const docLinkHtml = 'Like what you see? Visit the ' +\n",
              "            '<a target=\"_blank\" href=https://colab.research.google.com/notebooks/data_table.ipynb>data table notebook</a>'\n",
              "            + ' to learn more about interactive tables.';\n",
              "          element.innerHTML = '';\n",
              "          dataTable['output_type'] = 'display_data';\n",
              "          await google.colab.output.renderOutput(dataTable, element);\n",
              "          const docLink = document.createElement('div');\n",
              "          docLink.innerHTML = docLinkHtml;\n",
              "          element.appendChild(docLink);\n",
              "        }\n",
              "      </script>\n",
              "    </div>\n",
              "  </div>\n",
              "  "
            ]
          },
          "metadata": {},
          "execution_count": 150
        }
      ]
    },
    {
      "cell_type": "markdown",
      "source": [
        "Overall DBSCAN was not good clustering method for this data as it produced 169 clusters. "
      ],
      "metadata": {
        "id": "KoQ2mBxFtzTK"
      }
    }
  ],
  "metadata": {
    "kernelspec": {
      "display_name": "Python 3",
      "language": "python",
      "name": "python3"
    },
    "language_info": {
      "codemirror_mode": {
        "name": "ipython",
        "version": 3
      },
      "file_extension": ".py",
      "mimetype": "text/x-python",
      "name": "python",
      "nbconvert_exporter": "python",
      "pygments_lexer": "ipython3",
      "version": "3.8.5"
    },
    "colab": {
      "name": "Clustering.ipynb",
      "provenance": [],
      "collapsed_sections": []
    }
  },
  "nbformat": 4,
  "nbformat_minor": 0
}